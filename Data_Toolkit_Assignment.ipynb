{
  "nbformat": 4,
  "nbformat_minor": 0,
  "metadata": {
    "colab": {
      "provenance": []
    },
    "kernelspec": {
      "name": "python3",
      "display_name": "Python 3"
    },
    "language_info": {
      "name": "python"
    }
  },
  "cells": [
    {
      "cell_type": "markdown",
      "source": [
        "## Data Toolkit Assignment"
      ],
      "metadata": {
        "id": "M36B6XAQqjyf"
      }
    },
    {
      "cell_type": "markdown",
      "source": [
        "Q1. What is NumPy, and why is it widely used in Python?\n",
        "- AnswerNumPy (Numerical Python) is a powerful library in Python used for numerical and scientific computing. It provides support for arrays, matrices, and high-level mathematical functions to work on these arrays. Here’s why NumPy is widely used:\n",
        "\n",
        "Efficient Array Handling: NumPy introduces the ndarray object, which is a fast, efficient, and flexible n-dimensional array. These arrays are more compact and efficient than Python's built-in lists, especially for large datasets.\n",
        "\n",
        "Element-wise Operations: NumPy allows you to perform mathematical operations on entire arrays without the need for explicit loops, making code more concise and easier to read. For example, you can add, subtract, multiply, and divide arrays directly.\n",
        "\n",
        "Performance: NumPy operations are implemented in C and optimized for performance. This allows NumPy to handle large datasets much faster than Python’s native list processing.\n",
        "\n",
        "Integration with Other Libraries: NumPy is the foundation for many other scientific libraries, like SciPy, pandas, and scikit-learn. These libraries often rely on NumPy arrays for data storage and computation.\n",
        "\n",
        "Broadcasting: NumPy supports broadcasting, which allows operations between arrays of different shapes. This reduces the need for duplicating data and makes operations more memory efficient.\n",
        "\n",
        "Convenient Mathematical Functions: It provides a wide range of mathematical functions like trigonometric functions, linear algebra operations, and statistical functions that work directly on arrays.\n",
        "\n",
        "Support for Multidimensional Arrays: While Python lists are inherently one-dimensional, NumPy supports multidimensional arrays, which are crucial for many scientific and engineering computations.\n"
      ],
      "metadata": {
        "id": "dSo3-unIqo8K"
      }
    },
    {
      "cell_type": "markdown",
      "source": [
        "Q2.How does broadcasting work in NumPy?\n",
        "- Answer Broadcasting in NumPy allows you to perform element-wise operations on arrays of different shapes and sizes, without needing to explicitly reshape them. It automatically adjusts the dimensions of smaller arrays to match those of larger arrays in a way that allows for vectorized operations.\n",
        "\n",
        "How Broadcasting Works:\n",
        "When performing operations between two arrays, NumPy compares their shapes element-wise starting from the rightmost dimension. If the dimensions are not the same, NumPy tries to \"broadcast\" the smaller array to match the larger one. Broadcasting happens under the following conditions:\n",
        "\n",
        "If the arrays have the same number of dimensions (ndim):\n",
        "\n",
        "The dimensions are compared element-wise. If they are equal, or one of them is 1, broadcasting can occur.\n",
        "\n",
        "If one array has fewer dimensions than the other:\n",
        "\n",
        "The smaller array's shape is padded with 1s on the left side until both arrays have the same number of dimensions.\n",
        "\n",
        "If the dimensions are not the same:\n",
        "\n",
        "Broadcasting is possible if the dimensions are either equal or one of them is 1. If neither of these conditions is met, broadcasting will raise an error."
      ],
      "metadata": {
        "id": "sHv-2B87q8d2"
      }
    },
    {
      "cell_type": "markdown",
      "source": [
        "Q3. What is a Pandas DataFrame?\n",
        "- Answer A Pandas DataFrame is a two-dimensional, size-mutable, and potentially heterogeneous tabular data structure in Python. It is one of the most commonly used data structures for data manipulation and analysis in the Pandas library. The DataFrame is akin to a table in a database, an Excel spreadsheet, or a data frame in R. It allows for easy handling of data and supports various operations like filtering, grouping, merging, reshaping, and statistical analysis."
      ],
      "metadata": {
        "id": "s7GKiIiArwbM"
      }
    },
    {
      "cell_type": "markdown",
      "source": [
        "Q4. Explain the use of the groupby() method in Pandas?\n",
        "-Answer The groupby() method in Pandas is a powerful tool used for splitting data into groups based on some criteria (usually column values) and then performing operations on each group independently. This method is typically used for aggregation, transformation, and filtering data."
      ],
      "metadata": {
        "id": "3t8SwZEhr60l"
      }
    },
    {
      "cell_type": "markdown",
      "source": [
        "Q5. Why is Seaborn preferred for statistical visualizations?\n",
        "- Answer Seaborn is a Python data visualization library built on top of Matplotlib that provides a high-level interface for creating attractive and informative statistical graphics. It is preferred for statistical visualizations because of several key features that make it easier to create complex, beautiful, and meaningful visualizations with less effort compared to using Matplotlib directly. Below are the main reasons why Seaborn is preferred for statistical visualizations:"
      ],
      "metadata": {
        "id": "E3mtaIpBsHYM"
      }
    },
    {
      "cell_type": "markdown",
      "source": [
        "Q6. What are the differences between NumPy arrays and Python lists?\n",
        "- Answer Differences Between NumPy Arrays and Python Lists\n",
        "Although both NumPy arrays and Python lists are used to store collections of data, they have several key differences in terms of performance, functionality, and behavior. Below are the main distinctions:\n",
        "1. Homogeneity vs. Heterogeneity\n",
        "NumPy Arrays: All elements in a NumPy array are of the same data type. This uniformity allows NumPy to optimize memory usage and computation.\n",
        "2. Performance\n",
        "NumPy Arrays: NumPy arrays are faster and more memory-efficient than Python lists for large datasets or numerical computations. This is because NumPy is implemented in C and performs operations at a lower level, making vectorized operations more efficient.\n",
        "\n",
        "Python Lists: Python lists are slower for numerical operations, especially when working with large amounts of data. They are optimized for general-purpose use but are not designed for performance in numerical computations.\n",
        "3. Memory Consumption\n",
        "NumPy Arrays: NumPy arrays are more memory efficient because they store data in a contiguous block of memory and have a fixed size, unlike Python lists which have overhead due to their dynamic resizing.\n",
        "\n",
        "Python Lists: Python lists store pointers to objects and have a larger memory overhead since they need to accommodate elements of various types. This dynamic nature leads to greater memory consumption.\n",
        "\n",
        "4. Functionality and Operations\n",
        "NumPy Arrays: NumPy provides a wide range of built-in methods and operations for vectorized operations, which means you can perform mathematical operations (like addition, multiplication, etc.) on entire arrays without needing explicit loops. These operations are much faster compared to iterating through Python lists.\n",
        "5. Size Mutability\n",
        "NumPy Arrays: NumPy arrays have a fixed size once they are created. You can create a new array if you need a different size.\n",
        "\n",
        "Python Lists: Python lists are dynamic, which means you can add, remove, or resize elements as needed. You can use methods like append(), remove(), and extend() to modify a list."
      ],
      "metadata": {
        "id": "fMt5BpEvsSmg"
      }
    },
    {
      "cell_type": "markdown",
      "source": [
        "Q7. What is a heatmap, and when should it be used?\n",
        "- Answer A heatmap is a data visualization technique that uses color gradients to represent the values of a matrix or table in a 2D space. Each cell in the heatmap is colored according to the value it represents, making it easy to spot patterns, trends, or correlations in the data. Typically, a heatmap uses a color scale, such as a gradient from cool to warm colors, to encode values: lower values might be shown in cooler colors (e.g., blue), and higher values in warmer colors (e.g., red or yellow).\n",
        "\n",
        "Heatmaps are often used to display data where numerical values are represented in a grid-like structure, such as correlation matrices, geographic data, or any data with multiple variables."
      ],
      "metadata": {
        "id": "0Jb8xSSosplP"
      }
    },
    {
      "cell_type": "markdown",
      "source": [
        "Q8. What does the term “vectorized operation” mean in NumPy?\n",
        "- Answer In NumPy, vectorized operations refer to operations that are applied to whole arrays (or vectors) in an element-wise manner without the need for explicit loops. These operations are highly optimized, allowing NumPy to perform them much faster than traditional Python loops. The core idea is that NumPy performs calculations on entire arrays at once using low-level C code, rather than iterating over elements individually with Python's for loops.\n",
        "\n",
        "Vectorization improves both performance and readability of the code, as the operations are written in a more compact and expressive way.\n",
        "\n"
      ],
      "metadata": {
        "id": "XqyrS385s1wc"
      }
    },
    {
      "cell_type": "markdown",
      "source": [
        "Q9. How does Matplotlib differ from Plotly?\n",
        "- Answer Matplotlib and Plotly are both powerful Python libraries for creating visualizations, but they have significant differences in terms of their functionality, ease of use, and intended use cases. Here's a detailed comparison between the two:\n",
        "\n",
        "1. Interactivity\n",
        "Matplotlib:\n",
        "\n",
        "Static visualizations: By default, Matplotlib produces static plots that are typically rendered as images (e.g., PNG, SVG).\n",
        "\n",
        "Limited interactivity: While Matplotlib can provide some interactivity through libraries like mpl_toolkits or matplotlib.widgets, its primary focus is on static plotting. For example, you can zoom and pan in some environments (like Jupyter Notebooks), but it's not as intuitive or feature-rich as Plotly's interactivity.\n",
        "\n",
        "Use case: Great for static publication-ready figures.\n",
        "\n",
        "Plotly:\n",
        "\n",
        "Interactive visualizations: Plotly excels in creating interactive plots that can be explored by the user in real-time. These plots allow for zooming, panning, tooltips, and more. Plotly's interactivity is built-in and works out of the box.\n",
        "\n",
        "Rich interactivity: You can hover over data points to see more information, zoom in on parts of the graph, and dynamically update the plots.\n",
        "\n",
        "Use case: Ideal for web-based applications or interactive dashboards.\n",
        "\n",
        "2. Ease of Use\n",
        "Matplotlib:\n",
        "\n",
        "Complex syntax: Matplotlib has a more complex syntax for creating certain types of plots, and customizing those plots can often require a lot of code. For example, you might need to manually set axis labels, grid lines, and other aspects.\n",
        "\n",
        "Great for customization: While it can be harder to learn, Matplotlib provides a lot of control over plot details and is highly customizable.\n",
        "\n",
        "Use case: When you need to create precise, highly customizable, static visualizations.\n",
        "\n",
        "Plotly:\n",
        "\n",
        "Simple, intuitive syntax: Plotly's syntax is often simpler and more intuitive, especially when you want to create interactive plots quickly. It has built-in support for interactive features and requires less effort for most use cases.\n",
        "\n",
        "Easy-to-use interactivity: Many aspects of interactivity (like tooltips, hover, zoom) are enabled automatically and require little to no extra configuration.\n",
        "\n",
        "Use case: When you want to quickly create interactive plots with minimal effort.\n",
        "\n",
        "3. Types of Visualizations\n",
        "Matplotlib:\n",
        "\n",
        "Basic and custom plots: Matplotlib is great for creating basic plots like line graphs, bar charts, histograms, and scatter plots. It also has a variety of advanced plot types, like heatmaps, 3D plots, and polar plots.\n",
        "\n",
        "Highly customizable: It allows for fine-grained control over every aspect of the plot (e.g., colors, axes, markers, labels).\n",
        "\n",
        "Use case: When you need high customization for static visualizations for publications or academic work.\n",
        "\n",
        "Plotly:\n",
        "\n",
        "Wide range of visualizations: Plotly supports all types of plots that Matplotlib does (e.g., line, bar, scatter, histograms), but also includes more complex, interactive visualizations such as 3D surface plots, heatmaps, pie charts, and geographic maps.\n",
        "\n",
        "Interactive plotting: Plotly has built-in support for dynamic plots (e.g., animations, clickable elements), which Matplotlib lacks.\n",
        "\n",
        "Use case: When you need more complex and interactive visualizations, including geospatial plots (e.g., choropleth maps) or 3D visualizations.\n",
        "\n",
        "4. Rendering\n",
        "Matplotlib:\n",
        "\n",
        "Static images: Matplotlib renders plots as static images (e.g., PNG, SVG) for export or embedding into documents. While it supports some interactive features, these are limited to environments like Jupyter Notebooks or IPython.\n",
        "\n",
        "Offline rendering: It can create static visualizations that can be saved as files (e.g., PNG, PDF, SVG) or displayed on a screen.\n",
        "\n",
        "Use case: Ideal for generating static images for reports, presentations, or publications.\n",
        "\n",
        "Plotly:\n",
        "\n",
        "Web-based rendering: Plotly visualizations are interactive by default and are typically rendered in a web browser. This makes it ideal for web applications or embedding in websites.\n",
        "\n",
        "Online and offline modes: Plotly can be used in both online and offline modes. In offline mode, Plotly generates interactive plots that can be saved as HTML files.\n",
        "\n",
        "Use case: When you need interactive visualizations that will be shared on the web or used in applications.\n",
        "\n",
        "5. Customization\n",
        "Matplotlib:\n",
        "\n",
        "Extensive customization: Matplotlib is very powerful when it comes to customizing the appearance of a plot. You can control every aspect of the plot, including axes, titles, tick marks, grid lines, and labels. It also supports themes and custom styling for more professional plots.\n",
        "\n",
        "Greater control: It offers lower-level control over the figure and axes objects, making it easier to customize complex visualizations.\n",
        "\n",
        "Plotly:\n",
        "\n",
        "Customization via attributes: While Plotly also supports customization, it is more limited in terms of granular control compared to Matplotlib. Most customization happens at the level of plotly.graph_objects or plotly.express attributes.\n",
        "\n",
        "Simpler but effective: You can easily customize aspects like colors, markers, and layout but might not have the same fine-grained control over every element as in Matplotlib.\n",
        "\n",
        "6. Integration with Other Tools\n",
        "Matplotlib:\n",
        "\n",
        "Widely used in scientific computing: Matplotlib integrates well with NumPy, Pandas, and other scientific libraries like SciPy and SymPy.\n",
        "\n",
        "Exporting and sharing: It can be easily integrated into reports and documents via LaTeX, Jupyter Notebooks, or directly exporting to high-quality static images (e.g., PNG, SVG, PDF).\n",
        "\n",
        "Use case: Common in scientific, academic, and professional applications where static, publication-ready visualizations are required.\n",
        "\n",
        "Plotly:\n",
        "\n",
        "Best suited for web applications: Plotly integrates well with Dash (Plotly’s web framework) for creating interactive web applications.\n",
        "\n",
        "Works well with Jupyter Notebooks: It integrates with Jupyter for interactive plotting but is better suited for web-based interactions rather than static image generation.\n",
        "\n",
        "Use case: Plotly is more often used in data dashboards, web applications, and projects where interactivity is required.\n",
        "\n",
        "7. Learning Curve\n",
        "Matplotlib:\n",
        "\n",
        "Steeper learning curve: Matplotlib requires learning its syntax and understanding how to work with its objects (figures, axes, etc.). Customizing complex visualizations requires more effort.\n",
        "\n",
        "Great for control: Once you learn it, you get full control over every aspect of the plot.\n",
        "\n",
        "Plotly:\n",
        "\n",
        "Easier for interactive plots: Plotly is generally easier to learn when you need interactive plots or web-based visualizations. It’s more intuitive and often requires less code to create interactive plots.\n",
        "\n",
        "Focused on interactivity: The learning curve is more focused on understanding how to set up interactivity, which can be easier for most users."
      ],
      "metadata": {
        "id": "IN03AfS7tEBO"
      }
    },
    {
      "cell_type": "markdown",
      "source": [
        "Q10. What is the significance of hierarchical indexing in Pandas?\n",
        "- Answer Hierarchical indexing, also known as multi-level indexing, in Pandas is a powerful feature that allows you to handle and manipulate data with multiple levels of indexing (i.e., data organized in more than one dimension). It enables you to represent and manage data that has a hierarchical structure, making it easier to perform operations on complex datasets.\n",
        "\n",
        "This feature is especially useful when working with large datasets or multidimensional data that needs to be grouped or aggregated across multiple levels of indices. Hierarchical indexing enables more efficient and flexible data analysis, and simplifies complex tasks like grouping, reshaping, and pivoting data."
      ],
      "metadata": {
        "id": "gjqr4xA1tV9n"
      }
    },
    {
      "cell_type": "markdown",
      "source": [
        "Q11. What is the role of Seaborn’s pairplot() function?\n",
        "- Answer Role of Seaborn's pairplot() Function\n",
        "The pairplot() function in Seaborn is a visualization tool that creates a matrix of scatter plots for all numerical variables in a dataset. It is primarily used for exploring relationships between multiple variables at once and providing insights into potential correlations, distributions, and patterns across different features. It is particularly useful when you have a multivariate dataset and want to understand how variables interact with each other."
      ],
      "metadata": {
        "id": "gAZ0OBdnthHx"
      }
    },
    {
      "cell_type": "markdown",
      "source": [
        "Q12. What is the purpose of the describe() function in Pandas?\n",
        "- Answer Purpose of the describe() Function in Pandas\n",
        "The describe() function in Pandas is a summary statistic function that provides a quick and convenient way to get a statistical overview of the numerical (and optionally, categorical) columns in a DataFrame or Series. It computes and returns a set of descriptive statistics, such as measures of central tendency, spread, and shape of the distribution, for each feature in the dataset."
      ],
      "metadata": {
        "id": "qbvp3r4EtsRF"
      }
    },
    {
      "cell_type": "markdown",
      "source": [
        "Q13. Why is handling missing data important in Pandas?\n",
        "- Answer Importance of Handling Missing Data in Pandas\n",
        "Handling missing data is crucial in any data analysis or data preprocessing process. Missing or incomplete data can significantly impact the quality of your analysis, leading to inaccurate conclusions, biased models, or errors in computations. In Pandas, missing data is typically represented by NaN (Not a Number) for numerical values or None for objects, and it is essential to address missing data carefully to ensure valid results."
      ],
      "metadata": {
        "id": "zKmR9luRt70B"
      }
    },
    {
      "cell_type": "markdown",
      "source": [
        "Q14. What are the benefits of using Plotly for data visualization?\n",
        "- Answer Plotly is a powerful and versatile library for data visualization, and it offers a range of benefits that make it popular among data scientists and analysts. Some of the key advantages of using Plotly include:\n",
        "\n",
        "1. Interactive Visualizations\n",
        "Plotly allows you to create interactive plots, which means users can zoom in/out, hover over data points for more information, and toggle between different data series. This makes it easier to explore data and gain deeper insights.\n",
        "\n",
        "2. Wide Range of Plot Types\n",
        "Plotly supports a variety of plots including line charts, bar charts, scatter plots, histograms, pie charts, heatmaps, and even more complex visualizations like 3D plots, choropleth maps, and geographic maps.\n",
        "\n",
        "3. Customizability\n",
        "It offers extensive customization options for both the style and layout of your visualizations. You can adjust colors, fonts, sizes, axes, and more to fit your specific needs.\n",
        "\n",
        "4. Ease of Use\n",
        "Plotly is known for its easy-to-use interface. With a minimal amount of code, you can generate high-quality visualizations, making it beginner-friendly while still offering power for advanced users.\n",
        "\n",
        "5. Integration with Other Tools\n",
        "Plotly integrates seamlessly with various languages and frameworks. It works well with Python, R, JavaScript, and can also integrate with other visualization libraries like Matplotlib, Pandas, and Dash (for creating web-based dashboards).\n",
        "\n",
        "6. Web-Based Visualizations\n",
        "The visualizations are highly suited for web deployment, meaning they can be embedded in web applications, websites, and interactive dashboards. This is especially beneficial for presenting data to clients or stakeholders.\n",
        "\n",
        "7. Support for Dashboards\n",
        "Plotly’s integration with Dash allows for the creation of interactive web dashboards. Dash is a Python framework that enables you to build data-driven web applications, making it ideal for real-time data visualization and reporting.\n",
        "\n",
        "8. High-Quality Graphics\n",
        "Plotly generates high-quality, publication-ready graphics that are visually appealing and polished, making it suitable for professional presentations or reports.\n",
        "\n",
        "9. Cross-Platform Compatibility\n",
        "Plotly visualizations work across different platforms, including desktop and mobile devices, ensuring accessibility regardless of the device or screen size.\n",
        "\n",
        "10. Community Support and Documentation\n",
        "Plotly has an active community, and the documentation is well-organized and comprehensive. There are plenty of tutorials, forums, and examples to help users with common tasks and challenges.\n",
        "\n",
        "11. Real-Time Data Visualization\n",
        "With Plotly, you can easily create real-time dashboards or visualizations that can be updated dynamically with new data, making it suitable for monitoring systems and applications.\n",
        "\n",
        "12. Export Options\n",
        "You can export Plotly visualizations in various formats, such as PNG, JPEG, PDF, SVG, and even HTML, allowing for easy sharing and distribution.\n",
        "\n",
        "13. Open Source (with paid options)\n",
        "Plotly’s Python and R libraries are open-source, which means you can use them for free. There are also paid options that offer additional features for enterprise-level needs, such as collaboration, private chart storage, and advanced functionality."
      ],
      "metadata": {
        "id": "53rkJNSquUPl"
      }
    },
    {
      "cell_type": "markdown",
      "source": [
        "Q15.  How does NumPy handle multidimensional arrays?\n",
        "- Answer NumPy is a powerful Python library used for numerical computing, and one of its core features is its ability to handle multidimensional arrays efficiently. Here’s how NumPy handles multidimensional arrays and the benefits it provides:\n",
        "\n",
        "1. Arrays as Grids\n",
        "NumPy represents multidimensional arrays as grids of values, where each axis represents a different dimension.\n",
        "\n",
        "For example:\n",
        "\n",
        "A 1D array is simply a sequence of values (like a list).\n",
        "\n",
        "A 2D array is a matrix (rows and columns).\n",
        "\n",
        "A 3D array can be thought of as a stack of matrices.\n",
        "\n",
        "And so on, for higher-dimensional arrays.\n",
        "\n",
        "2. Shape and Dimension\n",
        "NumPy arrays come with a shape attribute, which gives the size of the array along each dimension.\n",
        "\n",
        "The ndim attribute provides the number of dimensions (i.e., the rank of the array).\n",
        "\n",
        "3. Indexing and Slicing\n",
        "NumPy allows you to index and slice multidimensional arrays easily, using a comma-separated list of indices.\n",
        "4. Broadcasting\n",
        "One of the key features of NumPy when working with multidimensional arrays is broadcasting.\n",
        "\n",
        "Broadcasting allows NumPy to perform operations on arrays of different shapes. NumPy automatically \"stretches\" the smaller array to match the shape of the larger one without needing to explicitly reshape it."
      ],
      "metadata": {
        "id": "4Ewl4wxMuzM-"
      }
    },
    {
      "cell_type": "markdown",
      "source": [
        "Q16.  What is the role of Bokeh in data visualization?\n",
        "- Answer Bokeh is a powerful, interactive data visualization library in Python that is designed to create visually appealing and interactive plots for web applications. It provides a way to produce high-quality, interactive visualizations with an emphasis on flexibility and integration with web technologies.\n",
        "\n",
        "Key Roles and Features of Bokeh in Data Visualization:\n",
        "1. Interactive Visualizations\n",
        "One of the primary strengths of Bokeh is its ability to produce interactive visualizations. Users can zoom, pan, hover, and click on elements to explore the data in a more engaging and dynamic way. This interactivity is ideal for web applications, dashboards, and real-time data monitoring.\n",
        "\n",
        "2. Browser-Based Visualizations\n",
        "Bokeh visualizations are built to be rendered directly in the browser. The library uses HTML, JavaScript, and CSS under the hood, meaning that the visualizations are web-native, highly interactive, and can be easily embedded in websites or dashboards.\n",
        "\n",
        "Bokeh plots can be exported as standalone HTML files, allowing easy sharing and deployment.\n",
        "\n",
        "3. Wide Range of Plot Types\n",
        "Bokeh supports a variety of visualization types, including:\n",
        "\n",
        "Line plots, scatter plots, and bar charts\n",
        "\n",
        "Heatmaps and histograms\n",
        "\n",
        "Geospatial maps\n",
        "\n",
        "3D plots\n",
        "\n",
        "Network graphs\n",
        "\n",
        "And many more specialized plot types for scientific and financial applications.\n",
        "\n",
        "This versatility allows users to tailor visualizations to different types of datasets and applications.\n",
        "\n",
        "4. Linked Plots and Widgets\n",
        "Bokeh supports linked plots, where multiple plots can interact with one another. For instance, clicking on a point in one plot can update or highlight relevant data in another plot.\n",
        "\n",
        "It also includes interactive widgets like sliders, dropdown menus, and checkboxes, which enable users to manipulate visualizations in real-time (e.g., adjusting parameters or filtering data).\n",
        "\n",
        "5. Integration with Other Libraries and Frameworks\n",
        "Bokeh integrates well with other libraries and tools, such as Pandas (for handling data) and NumPy (for numerical computations). It also supports integration with Jupyter notebooks, which makes it easy to work with interactive visualizations in a notebook environment.\n",
        "\n",
        "Additionally, Bokeh works seamlessly with Dash, Flask, and other web frameworks to build complex interactive dashboards and web applications.\n",
        "\n",
        "6. Customization and Styling\n",
        "Bokeh provides a high degree of customization for visualizations, from fine-grained control over plot elements (such as axes, labels, and titles) to extensive styling options for colors, fonts, and plot behavior.\n",
        "\n",
        "This flexibility allows you to design plots that align with your specific aesthetic and functional requirements.\n",
        "\n",
        "7. Real-Time Streaming and Updating\n",
        "Bokeh supports real-time data streaming, where visualizations can be updated dynamically as new data arrives. This is particularly useful in scenarios like financial data visualization, IoT dashboards, or monitoring applications.\n",
        "\n",
        "8. Server-Based Applications\n",
        "With Bokeh server, you can create more complex, interactive applications that respond to user inputs in real-time. This server can run live, interactive applications directly in the browser without needing to refresh the page.\n",
        "\n",
        "This feature is particularly useful when you need to build interactive dashboards or when visualizations need to be updated dynamically based on user interaction or real-time data.\n",
        "\n",
        "9. Static and Interactive Output\n",
        "Bokeh allows you to generate both static and interactive visualizations, giving you flexibility depending on your project’s needs.\n",
        "\n",
        "You can export static plots as images (like PNG, JPEG) or create fully interactive plots embedded in web pages, ensuring the correct format for your audience.\n",
        "\n",
        "10. Easy to Use API\n",
        "Bokeh provides a high-level and easy-to-use API for creating common visualizations, but it also offers low-level functionality for advanced users to create highly customized and complex plots.\n",
        "\n",
        "The intuitive nature of its API allows beginners to get started quickly while still offering depth for more experienced users."
      ],
      "metadata": {
        "id": "Psu77ueavIB3"
      }
    },
    {
      "cell_type": "markdown",
      "source": [
        "Q17.  Explain the difference between apply() and map() in Pandas?\n",
        "- Answer In Pandas, both apply() and map() are used for applying functions to data, but they serve slightly different purposes and have distinct use cases. Here’s a breakdown of the differences between them:\n",
        "\n",
        "1. map()\n",
        "Purpose: map() is specifically designed for Series (single columns) and is often used for element-wise transformations or replacements. It allows you to apply a function to each individual element of a Series.\n",
        "\n",
        "Common Use Cases:\n",
        "\n",
        "Transforming values using a function.\n",
        "\n",
        "Replacing or mapping values from one set to another (e.g., changing categorical values to numeric values).\n",
        "2. apply()\n",
        "Purpose: apply() is more versatile and can be used on both Series and DataFrames. It allows you to apply a function along either axis of a DataFrame (i.e., rows or columns) or element-wise to a Series.\n",
        "\n",
        "Common Use Cases:\n",
        "\n",
        "Applying a function along the axis of a DataFrame (e.g., applying a function to each row or column).\n",
        "\n",
        "More complex transformations that cannot be done element-wise in a Series."
      ],
      "metadata": {
        "id": "0uerliBOvXmH"
      }
    },
    {
      "cell_type": "markdown",
      "source": [
        "Q18. What are some advanced features of NumPy?\n",
        "- Answer NumPy is a powerful library that provides many advanced features beyond basic array manipulation. These features make it a robust tool for numerical computations and data analysis. Here are some of the more advanced features of NumPy:\n",
        "\n",
        "1. Broadcasting\n",
        "Broadcasting is a powerful feature that allows NumPy to perform operations on arrays of different shapes. This eliminates the need for explicit looping over arrays, making operations much more efficient.\n",
        "\n",
        "The smaller array is \"broadcast\" over the larger array, ensuring the operation is carried out element-wise without duplicating data.\n",
        "2. Advanced Array Indexing\n",
        "NumPy supports fancy indexing, which allows you to index arrays using arrays or lists of indices, rather than just integers or slices. This can be useful for extracting, modifying, or replacing specific elements based on complex conditions.\n",
        "\n",
        "Boolean indexing: You can index an array using a boolean array, selecting elements based on a condition.\n",
        "3. Strides and Memory Layout\n",
        "NumPy arrays have a memory layout (in terms of strides) that defines how data is stored in memory. Understanding strides is useful when working with large arrays and performing advanced optimizations.\n",
        "\n",
        "The ndarray.strides attribute shows how many bytes to step in each dimension when traversing the array.\n",
        "4. Linear Algebra Functions\n",
        "NumPy provides a wide range of linear algebra operations, such as matrix multiplication, eigenvalues, matrix decomposition, and more.\n",
        "\n",
        "Some common functions include:\n",
        "\n",
        "np.dot(): Matrix multiplication or dot product.\n",
        "\n",
        "np.linalg.inv(): Matrix inversion.\n",
        "\n",
        "np.linalg.eig(): Eigenvalues and eigenvectors.\n",
        "\n",
        "np.linalg.svd(): Singular Value Decomposition (SVD)."
      ],
      "metadata": {
        "id": "lVhPwwiavvQf"
      }
    },
    {
      "cell_type": "markdown",
      "source": [
        "Q19.  How does Pandas simplify time series analysis?\n",
        "- Answer Pandas simplifies time series analysis by providing a suite of powerful tools and functions tailored to handling and analyzing time-based data. Time series data, which involves data points indexed by timestamps, is commonly found in finance, economics, environmental monitoring, and many other fields. Below are some of the key ways Pandas makes time series analysis easier:\n",
        "\n",
        "1. Datetime Handling\n",
        "Pandas provides extensive support for datetime data. You can easily convert, parse, and manipulate time-related data using the pd.to_datetime() function. This allows you to convert various formats (strings, lists, etc.) into proper datetime objects for easier analysis.\n",
        "2. Date Range Generation\n",
        "Pandas allows you to generate date ranges easily using pd.date_range(). This is useful when you need to create time intervals for time series data or when your data is missing certain time stamps.\n",
        "3. Resampling and Frequency Conversion\n",
        "Pandas makes it easy to resample time series data to different frequencies (e.g., converting daily data to monthly or yearly data) using the resample() function.\n",
        "\n",
        "This is especially useful when you want to perform aggregation over a specific time period (like summing or averaging daily data into monthly data).\n",
        "4. Shifting and Lagging\n",
        "Pandas allows you to shift time series data forward or backward using the shift() method. This is useful for calculating differences between previous and current time periods, such as lagging indicators in financial data or calculating changes in values over time.\n",
        "5. Time Zone Handling\n",
        "Pandas has built-in support for handling time zones. You can easily localize your time series to a specific time zone using tz_localize() and convert between time zones using tz_convert().\n",
        "6. Rolling Windows\n",
        "Rolling windows allow you to compute statistics (like moving averages, sums, or standard deviations) over a sliding window of time. This is essential for time series smoothing and analysis.\n",
        "7. Time-Based Indexing and Selection\n",
        "You can use datetime indexing to easily select data for a specific time range (e.g., selecting data from a particular month, year, or day)."
      ],
      "metadata": {
        "id": "3cu8f1Dxv_Uf"
      }
    },
    {
      "cell_type": "markdown",
      "source": [
        "Q20. What is the role of a pivot table in Pandas?\n",
        "- Answer In Pandas, a pivot table is a powerful tool used for summarizing and aggregating data, especially when you need to restructure or reshape your data to better understand it. Pivot tables are commonly used in data analysis and reporting to quickly compute summary statistics (such as sums, means, or counts) across different dimensions of the dataset.\n",
        "\n",
        "The pivot_table() function in Pandas allows you to transform long-form data into a more useful, structured table format that makes it easier to perform comparisons and extract insights.\n",
        "\n",
        "Role of a Pivot Table in Pandas\n",
        "Summarizing Data:\n",
        "\n",
        "Pivot tables allow you to easily aggregate data across one or more categorical variables and compute summary statistics for different segments of the data.\n",
        "\n",
        "Example: You might use a pivot table to calculate the total sales for each product in different regions or compute the average score of students in different classes.\n",
        "\n",
        "Rearranging Data:\n",
        "\n",
        "Pivot tables can \"pivot\" data, changing the arrangement of rows and columns to create a new, clearer structure. This makes it easier to analyze relationships between different variables.\n",
        "\n",
        "For example, if you have a dataset with sales data for multiple products across different months, you can use a pivot table to reorganize this data so each column corresponds to a specific month, and each row represents a different product.\n",
        "\n",
        "Aggregation:\n",
        "\n",
        "Pivot tables support a variety of aggregation functions such as sum(), mean(), count(), min(), max(), etc. You can apply these functions to the grouped data to obtain insights like totals, averages, or counts for specific categories.\n",
        "\n",
        "Example: If you have a dataset of customer purchases, you can use a pivot table to calculate the total purchase amount per customer or per product category.\n",
        "\n",
        "Handling Missing Data:\n",
        "\n",
        "Pivot tables in Pandas provide an option to fill missing data using fill_value and other handling strategies, making it easier to handle incomplete datasets.\n",
        "\n",
        "Flexibility:\n",
        "\n",
        "Pivot tables allow you to use multiple columns as row or column indices, as well as aggregate data based on several dimensions (e.g., by product and region).\n",
        "\n",
        "You can also apply custom aggregation functions to perform complex operations."
      ],
      "metadata": {
        "id": "nE16RyHOwaTJ"
      }
    },
    {
      "cell_type": "markdown",
      "source": [
        "Q21. Why is NumPy’s array slicing faster than Python’s list slicing?\n",
        "- Answer NumPy's array slicing is generally faster than Python's list slicing due to several key reasons related to internal optimizations and the way NumPy arrays are structured. Here's a breakdown of why NumPy's slicing is more efficient:\n",
        "\n",
        "1. Contiguous Memory Allocation\n",
        "NumPy arrays are stored in contiguous blocks of memory. This means that the data is laid out in a single, continuous chunk, making it faster to access and manipulate slices of the array.\n",
        "\n",
        "On the other hand, Python lists are implemented as arrays of pointers to objects, and these objects can be scattered across memory. This results in additional overhead when slicing a list, as Python needs to handle the pointers and may involve more memory lookups.\n",
        "\n",
        "2. Low-Level Optimized Operations\n",
        "NumPy is implemented in C and uses highly optimized libraries like BLAS (Basic Linear Algebra Subprograms) and LAPACK to perform operations on arrays. These libraries take advantage of efficient memory access patterns and processor-level optimizations, resulting in fast operations.\n",
        "\n",
        "When you slice a NumPy array, the slicing operation itself is implemented in C, and only views of the original data are created (not copies), making it faster and more memory-efficient.\n",
        "\n",
        "3. Array Views vs. Copies\n",
        "NumPy slicing returns a view of the original array, meaning that it does not create a new array. It simply provides a new way to access the same data. This is a memory-efficient operation because it does not involve copying the underlying data.\n",
        "\n",
        "In contrast, Python lists create a new list when slicing, meaning that a new object is created and populated with references to the original objects in the list. This introduces extra overhead due to memory allocation and copying of elements, which slows down the slicing process.\n",
        "\n",
        "4. Efficient Indexing and Broadcasting\n",
        "NumPy has vectorized operations and broadcasting capabilities, allowing it to perform element-wise operations on slices efficiently without needing Python-level loops. This vectorization leverages highly optimized C code and SIMD (Single Instruction, Multiple Data) operations that can process multiple elements in parallel, making slicing and operations on slices very fast.\n",
        "\n",
        "In contrast, Python’s list slicing is relatively slow because each operation (like iterating over elements) has to be handled in pure Python, which doesn’t have the same performance optimizations as NumPy.\n",
        "\n",
        "5. Fixed Data Types\n",
        "NumPy arrays contain data of a fixed single data type (such as int, float, etc.), which allows for better memory layout and faster access. NumPy is able to perform operations on the data without needing to check the type of each element, reducing overhead.\n",
        "\n",
        "Python lists, however, can store objects of different types, which requires additional overhead to handle different types of data and results in slower access and manipulation.\n",
        "\n",
        "6. Cache Efficiency\n",
        "Contiguous memory layout in NumPy means that slicing an array is more cache-friendly. Since the data is stored in a single, contiguous block, when NumPy slices the array, it can take advantage of CPU cache lines to load and access the data more efficiently.\n",
        "\n",
        "Python lists, with their scattered memory locations for different objects, are less cache-friendly and thus slower in terms of access patterns."
      ],
      "metadata": {
        "id": "XIng9YSlwsx9"
      }
    },
    {
      "cell_type": "markdown",
      "source": [
        "Q22. What are some common use cases for Seaborn?\n",
        "- Answer Seaborn is a powerful Python visualization library built on top of Matplotlib that simplifies the process of creating informative and attractive statistical graphics. It is particularly well-suited for data exploration, analysis, and creating visualizations that convey complex patterns in data. Below are some common use cases for Seaborn:\n",
        "\n",
        "1. Exploratory Data Analysis (EDA)\n",
        "Seaborn is widely used during the initial phase of data analysis to explore datasets and understand underlying patterns. Its simple interface allows you to quickly generate plots that can help identify trends, distributions, and relationships between variables.\n",
        "\n",
        "Example Use Case:\n",
        "\n",
        "Visualizing distributions of numerical data (e.g., using histograms, KDEs).\n",
        "\n",
        "Understanding relationships between variables (e.g., scatter plots, pair plots).\n",
        "\n",
        "Investigating correlations between variables (e.g., heatmaps).\n",
        "2. Visualizing Relationships Between Variables\n",
        "Scatter plots and regression plots are used to explore relationships between numerical variables. Seaborn makes it easy to fit regression lines to scatter plots to observe linear or nonlinear trends.\n",
        "\n",
        "Example Use Case:\n",
        "\n",
        "Visualizing bivariate relationships between two continuous variables (scatter plot).\n",
        "\n",
        "Adding a regression line to a scatter plot to visualize linear relationships (e.g., sns.regplot()).\n",
        "\n",
        "Facet grids to visualize relationships across multiple subgroups (e.g., sns.FacetGrid()).\n",
        "3. Comparing Categories\n",
        "Seaborn provides multiple ways to visualize how different categories or groups compare, including box plots, violin plots, and bar plots. These visualizations can be used to compare distributions or central tendencies (e.g., means or medians) across different categories.\n",
        "\n",
        "Example Use Case:\n",
        "\n",
        "Box plots to compare distributions across categories.\n",
        "\n",
        "Violin plots to compare distributions and show the probability density of data across categories.\n",
        "\n",
        "Bar plots to visualize aggregated values like means or sums by category."
      ],
      "metadata": {
        "id": "pdQjtRHNw6BU"
      }
    },
    {
      "cell_type": "markdown",
      "source": [
        "## Practical Quetions"
      ],
      "metadata": {
        "id": "uC9ei3nnxViC"
      }
    },
    {
      "cell_type": "code",
      "source": [
        "##  How do you create a 2D NumPy array and calculate the sum of each row?\n",
        "import numpy as np\n",
        "\n",
        "# Create a 2D NumPy array (e.g., 3 rows and 4 columns)\n",
        "array_2d = np.array([[1, 2, 3, 4],\n",
        "                     [5, 6, 7, 8],\n",
        "                     [9, 10, 11, 12]])\n",
        "\n",
        "# Calculate the sum of each row\n",
        "row_sums = np.sum(array_2d, axis=1)\n",
        "\n",
        "# Output the result\n",
        "print(\"Sum of each row:\", row_sums)"
      ],
      "metadata": {
        "colab": {
          "base_uri": "https://localhost:8080/"
        },
        "id": "g-HUVEqIxZT7",
        "outputId": "fb34fa78-9081-4f34-ae11-80ccc948b876"
      },
      "execution_count": 2,
      "outputs": [
        {
          "output_type": "stream",
          "name": "stdout",
          "text": [
            "Sum of each row: [10 26 42]\n"
          ]
        }
      ]
    },
    {
      "cell_type": "code",
      "source": [
        "## Write a Pandas script to find the mean of a specific column in a DataFrame?\n",
        "import pandas as pd\n",
        "\n",
        "# Sample DataFrame\n",
        "data = {\n",
        "    'A': [10, 20, 30, 40, 50],\n",
        "    'B': [5, 10, 15, 20, 25],\n",
        "    'C': [100, 200, 300, 400, 500]\n",
        "}\n",
        "\n",
        "# Create the DataFrame\n",
        "df = pd.DataFrame(data)\n",
        "\n",
        "# Calculate the mean of a specific column (e.g., column 'B')\n",
        "mean_value = df['B'].mean()\n",
        "\n",
        "# Output the result\n",
        "print(f\"The mean of column 'B' is: {mean_value}\")"
      ],
      "metadata": {
        "colab": {
          "base_uri": "https://localhost:8080/"
        },
        "id": "kUgtbw11xwWC",
        "outputId": "d920159b-d68b-4484-d5b6-808fb14934b5"
      },
      "execution_count": 3,
      "outputs": [
        {
          "output_type": "stream",
          "name": "stdout",
          "text": [
            "The mean of column 'B' is: 15.0\n"
          ]
        }
      ]
    },
    {
      "cell_type": "code",
      "source": [
        "## Create a scatter plot using Matplotlib?\n",
        "import matplotlib.pyplot as plt\n",
        "\n",
        "# Sample data\n",
        "x = [1, 2, 3, 4, 5]\n",
        "y = [2, 4, 6, 8, 10]\n",
        "\n",
        "# Create a scatter plot\n",
        "plt.scatter(x, y, color='blue', marker='o', label='Data points')\n",
        "\n",
        "# Add title and labels\n",
        "plt.title(\"Simple Scatter Plot\")\n",
        "plt.xlabel(\"X values\")\n",
        "plt.ylabel(\"Y values\")\n",
        "\n",
        "# Show legend\n",
        "plt.legend()\n",
        "\n",
        "# Display the plot\n",
        "plt.show()"
      ],
      "metadata": {
        "colab": {
          "base_uri": "https://localhost:8080/",
          "height": 472
        },
        "id": "yNK0aeORx5DV",
        "outputId": "9e6a6e26-583d-47bf-d0e7-8cbeca0950f3"
      },
      "execution_count": 4,
      "outputs": [
        {
          "output_type": "display_data",
          "data": {
            "text/plain": [
              "<Figure size 640x480 with 1 Axes>"
            ],
            "image/png": "[encoded data removed]"
          },
          "metadata": {}
        }
      ]
    },
    {
      "cell_type": "code",
      "source": [
        "## How do you calculate the correlation matrix using Seaborn and visualize it with a heatmap?\n",
        "import seaborn as sns\n",
        "import matplotlib.pyplot as plt\n",
        "import pandas as pd\n",
        "\n",
        "# Load a sample dataset (e.g., tips dataset from Seaborn)\n",
        "df = sns.load_dataset(\"tips\")\n",
        "\n",
        "# Calculate the correlation matrix\n",
        "correlation_matrix = df.corr()\n",
        "\n",
        "# Visualize the correlation matrix using a heatmap\n",
        "plt.figure(figsize=(8, 6))  # Set the figure size\n",
        "sns.heatmap(correlation_matrix, annot=True, cmap='coolwarm', fmt='.2f', linewidths=0.5)\n",
        "\n",
        "# Add title and labels\n",
        "plt.title(\"Correlation Matrix Heatmap\")\n",
        "\n",
        "# Show the plot\n",
        "plt.show()"
      ],
      "metadata": {
        "colab": {
          "base_uri": "https://localhost:8080/",
          "height": 372
        },
        "id": "MnGCsbZPyBAa",
        "outputId": "e5fa53d1-df60-4576-9493-bde14cce137f"
      },
      "execution_count": 8,
      "outputs": [
        {
          "output_type": "error",
          "ename": "ValueError",
          "evalue": "could not convert string to float: 'No'",
          "traceback": [
            "\u001b[0;31m---------------------------------------------------------------------------\u001b[0m",
            "\u001b[0;31mValueError\u001b[0m                                Traceback (most recent call last)",
            "\u001b[0;32m<ipython-input-8-0c7ef347d575>\u001b[0m in \u001b[0;36m<cell line: 0>\u001b[0;34m()\u001b[0m\n\u001b[1;32m      8\u001b[0m \u001b[0;34m\u001b[0m\u001b[0m\n\u001b[1;32m      9\u001b[0m \u001b[0;31m# Calculate the correlation matrix\u001b[0m\u001b[0;34m\u001b[0m\u001b[0;34m\u001b[0m\u001b[0m\n\u001b[0;32m---> 10\u001b[0;31m \u001b[0mcorrelationmatrix\u001b[0m \u001b[0;34m=\u001b[0m \u001b[0mdf\u001b[0m\u001b[0;34m.\u001b[0m\u001b[0mcorr\u001b[0m\u001b[0;34m(\u001b[0m\u001b[0;34m)\u001b[0m\u001b[0;34m\u001b[0m\u001b[0;34m\u001b[0m\u001b[0m\n\u001b[0m\u001b[1;32m     11\u001b[0m \u001b[0;34m\u001b[0m\u001b[0m\n\u001b[1;32m     12\u001b[0m \u001b[0;31m# Visualize the correlation matrix using a heatmap\u001b[0m\u001b[0;34m\u001b[0m\u001b[0;34m\u001b[0m\u001b[0m\n",
            "\u001b[0;32m/usr/local/lib/python3.11/dist-packages/pandas/core/frame.py\u001b[0m in \u001b[0;36mcorr\u001b[0;34m(self, method, min_periods, numeric_only)\u001b[0m\n\u001b[1;32m  11047\u001b[0m         \u001b[0mcols\u001b[0m \u001b[0;34m=\u001b[0m \u001b[0mdata\u001b[0m\u001b[0;34m.\u001b[0m\u001b[0mcolumns\u001b[0m\u001b[0;34m\u001b[0m\u001b[0;34m\u001b[0m\u001b[0m\n\u001b[1;32m  11048\u001b[0m         \u001b[0midx\u001b[0m \u001b[0;34m=\u001b[0m \u001b[0mcols\u001b[0m\u001b[0;34m.\u001b[0m\u001b[0mcopy\u001b[0m\u001b[0;34m(\u001b[0m\u001b[0;34m)\u001b[0m\u001b[0;34m\u001b[0m\u001b[0;34m\u001b[0m\u001b[0m\n\u001b[0;32m> 11049\u001b[0;31m         \u001b[0mmat\u001b[0m \u001b[0;34m=\u001b[0m \u001b[0mdata\u001b[0m\u001b[0;34m.\u001b[0m\u001b[0mto_numpy\u001b[0m\u001b[0;34m(\u001b[0m\u001b[0mdtype\u001b[0m\u001b[0;34m=\u001b[0m\u001b[0mfloat\u001b[0m\u001b[0;34m,\u001b[0m \u001b[0mna_value\u001b[0m\u001b[0;34m=\u001b[0m\u001b[0mnp\u001b[0m\u001b[0;34m.\u001b[0m\u001b[0mnan\u001b[0m\u001b[0;34m,\u001b[0m \u001b[0mcopy\u001b[0m\u001b[0;34m=\u001b[0m\u001b[0;32mFalse\u001b[0m\u001b[0;34m)\u001b[0m\u001b[0;34m\u001b[0m\u001b[0;34m\u001b[0m\u001b[0m\n\u001b[0m\u001b[1;32m  11050\u001b[0m \u001b[0;34m\u001b[0m\u001b[0m\n\u001b[1;32m  11051\u001b[0m         \u001b[0;32mif\u001b[0m \u001b[0mmethod\u001b[0m \u001b[0;34m==\u001b[0m \u001b[0;34m\"pearson\"\u001b[0m\u001b[0;34m:\u001b[0m\u001b[0;34m\u001b[0m\u001b[0;34m\u001b[0m\u001b[0m\n",
            "\u001b[0;32m/usr/local/lib/python3.11/dist-packages/pandas/core/frame.py\u001b[0m in \u001b[0;36mto_numpy\u001b[0;34m(self, dtype, copy, na_value)\u001b[0m\n\u001b[1;32m   1991\u001b[0m         \u001b[0;32mif\u001b[0m \u001b[0mdtype\u001b[0m \u001b[0;32mis\u001b[0m \u001b[0;32mnot\u001b[0m \u001b[0;32mNone\u001b[0m\u001b[0;34m:\u001b[0m\u001b[0;34m\u001b[0m\u001b[0;34m\u001b[0m\u001b[0m\n\u001b[1;32m   1992\u001b[0m             \u001b[0mdtype\u001b[0m \u001b[0;34m=\u001b[0m \u001b[0mnp\u001b[0m\u001b[0;34m.\u001b[0m\u001b[0mdtype\u001b[0m\u001b[0;34m(\u001b[0m\u001b[0mdtype\u001b[0m\u001b[0;34m)\u001b[0m\u001b[0;34m\u001b[0m\u001b[0;34m\u001b[0m\u001b[0m\n\u001b[0;32m-> 1993\u001b[0;31m         \u001b[0mresult\u001b[0m \u001b[0;34m=\u001b[0m \u001b[0mself\u001b[0m\u001b[0;34m.\u001b[0m\u001b[0m_mgr\u001b[0m\u001b[0;34m.\u001b[0m\u001b[0mas_array\u001b[0m\u001b[0;34m(\u001b[0m\u001b[0mdtype\u001b[0m\u001b[0;34m=\u001b[0m\u001b[0mdtype\u001b[0m\u001b[0;34m,\u001b[0m \u001b[0mcopy\u001b[0m\u001b[0;34m=\u001b[0m\u001b[0mcopy\u001b[0m\u001b[0;34m,\u001b[0m \u001b[0mna_value\u001b[0m\u001b[0;34m=\u001b[0m\u001b[0mna_value\u001b[0m\u001b[0;34m)\u001b[0m\u001b[0;34m\u001b[0m\u001b[0;34m\u001b[0m\u001b[0m\n\u001b[0m\u001b[1;32m   1994\u001b[0m         \u001b[0;32mif\u001b[0m \u001b[0mresult\u001b[0m\u001b[0;34m.\u001b[0m\u001b[0mdtype\u001b[0m \u001b[0;32mis\u001b[0m \u001b[0;32mnot\u001b[0m \u001b[0mdtype\u001b[0m\u001b[0;34m:\u001b[0m\u001b[0;34m\u001b[0m\u001b[0;34m\u001b[0m\u001b[0m\n\u001b[1;32m   1995\u001b[0m             \u001b[0mresult\u001b[0m \u001b[0;34m=\u001b[0m \u001b[0mnp\u001b[0m\u001b[0;34m.\u001b[0m\u001b[0masarray\u001b[0m\u001b[0;34m(\u001b[0m\u001b[0mresult\u001b[0m\u001b[0;34m,\u001b[0m \u001b[0mdtype\u001b[0m\u001b[0;34m=\u001b[0m\u001b[0mdtype\u001b[0m\u001b[0;34m)\u001b[0m\u001b[0;34m\u001b[0m\u001b[0;34m\u001b[0m\u001b[0m\n",
            "\u001b[0;32m/usr/local/lib/python3.11/dist-packages/pandas/core/internals/managers.py\u001b[0m in \u001b[0;36mas_array\u001b[0;34m(self, dtype, copy, na_value)\u001b[0m\n\u001b[1;32m   1692\u001b[0m                 \u001b[0marr\u001b[0m\u001b[0;34m.\u001b[0m\u001b[0mflags\u001b[0m\u001b[0;34m.\u001b[0m\u001b[0mwriteable\u001b[0m \u001b[0;34m=\u001b[0m \u001b[0;32mFalse\u001b[0m\u001b[0;34m\u001b[0m\u001b[0;34m\u001b[0m\u001b[0m\n\u001b[1;32m   1693\u001b[0m         \u001b[0;32melse\u001b[0m\u001b[0;34m:\u001b[0m\u001b[0;34m\u001b[0m\u001b[0;34m\u001b[0m\u001b[0m\n\u001b[0;32m-> 1694\u001b[0;31m             \u001b[0marr\u001b[0m \u001b[0;34m=\u001b[0m \u001b[0mself\u001b[0m\u001b[0;34m.\u001b[0m\u001b[0m_interleave\u001b[0m\u001b[0;34m(\u001b[0m\u001b[0mdtype\u001b[0m\u001b[0;34m=\u001b[0m\u001b[0mdtype\u001b[0m\u001b[0;34m,\u001b[0m \u001b[0mna_value\u001b[0m\u001b[0;34m=\u001b[0m\u001b[0mna_value\u001b[0m\u001b[0;34m)\u001b[0m\u001b[0;34m\u001b[0m\u001b[0;34m\u001b[0m\u001b[0m\n\u001b[0m\u001b[1;32m   1695\u001b[0m             \u001b[0;31m# The underlying data was copied within _interleave, so no need\u001b[0m\u001b[0;34m\u001b[0m\u001b[0;34m\u001b[0m\u001b[0m\n\u001b[1;32m   1696\u001b[0m             \u001b[0;31m# to further copy if copy=True or setting na_value\u001b[0m\u001b[0;34m\u001b[0m\u001b[0;34m\u001b[0m\u001b[0m\n",
            "\u001b[0;32m/usr/local/lib/python3.11/dist-packages/pandas/core/internals/managers.py\u001b[0m in \u001b[0;36m_interleave\u001b[0;34m(self, dtype, na_value)\u001b[0m\n\u001b[1;32m   1745\u001b[0m                 \u001b[0;31m# error: Item \"ndarray\" of \"Union[ndarray, ExtensionArray]\" has no\u001b[0m\u001b[0;34m\u001b[0m\u001b[0;34m\u001b[0m\u001b[0m\n\u001b[1;32m   1746\u001b[0m                 \u001b[0;31m# attribute \"to_numpy\"\u001b[0m\u001b[0;34m\u001b[0m\u001b[0;34m\u001b[0m\u001b[0m\n\u001b[0;32m-> 1747\u001b[0;31m                 arr = blk.values.to_numpy(  # type: ignore[union-attr]\n\u001b[0m\u001b[1;32m   1748\u001b[0m                     \u001b[0mdtype\u001b[0m\u001b[0;34m=\u001b[0m\u001b[0mdtype\u001b[0m\u001b[0;34m,\u001b[0m\u001b[0;34m\u001b[0m\u001b[0;34m\u001b[0m\u001b[0m\n\u001b[1;32m   1749\u001b[0m                     \u001b[0mna_value\u001b[0m\u001b[0;34m=\u001b[0m\u001b[0mna_value\u001b[0m\u001b[0;34m,\u001b[0m\u001b[0;34m\u001b[0m\u001b[0;34m\u001b[0m\u001b[0m\n",
            "\u001b[0;32m/usr/local/lib/python3.11/dist-packages/pandas/core/arrays/base.py\u001b[0m in \u001b[0;36mto_numpy\u001b[0;34m(self, dtype, copy, na_value)\u001b[0m\n\u001b[1;32m    566\u001b[0m         \u001b[0mnumpy\u001b[0m\u001b[0;34m.\u001b[0m\u001b[0mndarray\u001b[0m\u001b[0;34m\u001b[0m\u001b[0;34m\u001b[0m\u001b[0m\n\u001b[1;32m    567\u001b[0m         \"\"\"\n\u001b[0;32m--> 568\u001b[0;31m         \u001b[0mresult\u001b[0m \u001b[0;34m=\u001b[0m \u001b[0mnp\u001b[0m\u001b[0;34m.\u001b[0m\u001b[0masarray\u001b[0m\u001b[0;34m(\u001b[0m\u001b[0mself\u001b[0m\u001b[0;34m,\u001b[0m \u001b[0mdtype\u001b[0m\u001b[0;34m=\u001b[0m\u001b[0mdtype\u001b[0m\u001b[0;34m)\u001b[0m\u001b[0;34m\u001b[0m\u001b[0;34m\u001b[0m\u001b[0m\n\u001b[0m\u001b[1;32m    569\u001b[0m         \u001b[0;32mif\u001b[0m \u001b[0mcopy\u001b[0m \u001b[0;32mor\u001b[0m \u001b[0mna_value\u001b[0m \u001b[0;32mis\u001b[0m \u001b[0;32mnot\u001b[0m \u001b[0mlib\u001b[0m\u001b[0;34m.\u001b[0m\u001b[0mno_default\u001b[0m\u001b[0;34m:\u001b[0m\u001b[0;34m\u001b[0m\u001b[0;34m\u001b[0m\u001b[0m\n\u001b[1;32m    570\u001b[0m             \u001b[0mresult\u001b[0m \u001b[0;34m=\u001b[0m \u001b[0mresult\u001b[0m\u001b[0;34m.\u001b[0m\u001b[0mcopy\u001b[0m\u001b[0;34m(\u001b[0m\u001b[0;34m)\u001b[0m\u001b[0;34m\u001b[0m\u001b[0;34m\u001b[0m\u001b[0m\n",
            "\u001b[0;32m/usr/local/lib/python3.11/dist-packages/pandas/core/arrays/_mixins.py\u001b[0m in \u001b[0;36mmethod\u001b[0;34m(self, *args, **kwargs)\u001b[0m\n\u001b[1;32m     79\u001b[0m     \u001b[0;32mdef\u001b[0m \u001b[0mmethod\u001b[0m\u001b[0;34m(\u001b[0m\u001b[0mself\u001b[0m\u001b[0;34m,\u001b[0m \u001b[0;34m*\u001b[0m\u001b[0margs\u001b[0m\u001b[0;34m,\u001b[0m \u001b[0;34m**\u001b[0m\u001b[0mkwargs\u001b[0m\u001b[0;34m)\u001b[0m\u001b[0;34m:\u001b[0m\u001b[0;34m\u001b[0m\u001b[0;34m\u001b[0m\u001b[0m\n\u001b[1;32m     80\u001b[0m         \u001b[0;32mif\u001b[0m \u001b[0mself\u001b[0m\u001b[0;34m.\u001b[0m\u001b[0mndim\u001b[0m \u001b[0;34m==\u001b[0m \u001b[0;36m1\u001b[0m\u001b[0;34m:\u001b[0m\u001b[0;34m\u001b[0m\u001b[0;34m\u001b[0m\u001b[0m\n\u001b[0;32m---> 81\u001b[0;31m             \u001b[0;32mreturn\u001b[0m \u001b[0mmeth\u001b[0m\u001b[0;34m(\u001b[0m\u001b[0mself\u001b[0m\u001b[0;34m,\u001b[0m \u001b[0;34m*\u001b[0m\u001b[0margs\u001b[0m\u001b[0;34m,\u001b[0m \u001b[0;34m**\u001b[0m\u001b[0mkwargs\u001b[0m\u001b[0;34m)\u001b[0m\u001b[0;34m\u001b[0m\u001b[0;34m\u001b[0m\u001b[0m\n\u001b[0m\u001b[1;32m     82\u001b[0m \u001b[0;34m\u001b[0m\u001b[0m\n\u001b[1;32m     83\u001b[0m         \u001b[0mflags\u001b[0m \u001b[0;34m=\u001b[0m \u001b[0mself\u001b[0m\u001b[0;34m.\u001b[0m\u001b[0m_ndarray\u001b[0m\u001b[0;34m.\u001b[0m\u001b[0mflags\u001b[0m\u001b[0;34m\u001b[0m\u001b[0;34m\u001b[0m\u001b[0m\n",
            "\u001b[0;32m/usr/local/lib/python3.11/dist-packages/pandas/core/arrays/categorical.py\u001b[0m in \u001b[0;36m__array__\u001b[0;34m(self, dtype, copy)\u001b[0m\n\u001b[1;32m   1662\u001b[0m         \u001b[0mret\u001b[0m \u001b[0;34m=\u001b[0m \u001b[0mtake_nd\u001b[0m\u001b[0;34m(\u001b[0m\u001b[0mself\u001b[0m\u001b[0;34m.\u001b[0m\u001b[0mcategories\u001b[0m\u001b[0;34m.\u001b[0m\u001b[0m_values\u001b[0m\u001b[0;34m,\u001b[0m \u001b[0mself\u001b[0m\u001b[0;34m.\u001b[0m\u001b[0m_codes\u001b[0m\u001b[0;34m)\u001b[0m\u001b[0;34m\u001b[0m\u001b[0;34m\u001b[0m\u001b[0m\n\u001b[1;32m   1663\u001b[0m         \u001b[0;32mif\u001b[0m \u001b[0mdtype\u001b[0m \u001b[0;32mand\u001b[0m \u001b[0mnp\u001b[0m\u001b[0;34m.\u001b[0m\u001b[0mdtype\u001b[0m\u001b[0;34m(\u001b[0m\u001b[0mdtype\u001b[0m\u001b[0;34m)\u001b[0m \u001b[0;34m!=\u001b[0m \u001b[0mself\u001b[0m\u001b[0;34m.\u001b[0m\u001b[0mcategories\u001b[0m\u001b[0;34m.\u001b[0m\u001b[0mdtype\u001b[0m\u001b[0;34m:\u001b[0m\u001b[0;34m\u001b[0m\u001b[0;34m\u001b[0m\u001b[0m\n\u001b[0;32m-> 1664\u001b[0;31m             \u001b[0;32mreturn\u001b[0m \u001b[0mnp\u001b[0m\u001b[0;34m.\u001b[0m\u001b[0masarray\u001b[0m\u001b[0;34m(\u001b[0m\u001b[0mret\u001b[0m\u001b[0;34m,\u001b[0m \u001b[0mdtype\u001b[0m\u001b[0;34m)\u001b[0m\u001b[0;34m\u001b[0m\u001b[0;34m\u001b[0m\u001b[0m\n\u001b[0m\u001b[1;32m   1665\u001b[0m         \u001b[0;31m# When we're a Categorical[ExtensionArray], like Interval,\u001b[0m\u001b[0;34m\u001b[0m\u001b[0;34m\u001b[0m\u001b[0m\n\u001b[1;32m   1666\u001b[0m         \u001b[0;31m# we need to ensure __array__ gets all the way to an\u001b[0m\u001b[0;34m\u001b[0m\u001b[0;34m\u001b[0m\u001b[0m\n",
            "\u001b[0;31mValueError\u001b[0m: could not convert string to float: 'No'"
          ]
        }
      ]
    },
    {
      "cell_type": "code",
      "source": [
        "## Generate a bar plot using Plotly\n",
        "import plotly.express as px\n",
        "import pandas as pd\n",
        "\n",
        "# Create a simple DataFrame\n",
        "data = {\n",
        "    'Category': ['A', 'B', 'C', 'D', 'E'],\n",
        "    'Value': [10, 20, 30, 40, 50]\n",
        "}\n",
        "\n",
        "df = pd.DataFrame(data)\n",
        "\n",
        "# Create a bar plot using Plotly\n",
        "fig = px.bar(df, x='Category', y='Value', title=\"Simple Bar Plot\")\n",
        "\n",
        "# Show the plot\n",
        "fig.show()"
      ],
      "metadata": {
        "colab": {
          "base_uri": "https://localhost:8080/",
          "height": 542
        },
        "id": "VzpGEa_2yOAT",
        "outputId": "35189b5d-9631-4f0d-fc7b-7652838beac5"
      },
      "execution_count": 11,
      "outputs": [
        {
          "output_type": "display_data",
          "data": {
            "text/html": [
              "<html>\n",
              "<head><meta charset=\"utf-8\" /></head>\n",
              "<body>\n",
              "    <div>            <script src=\"https://cdnjs.cloudflare.com/ajax/libs/mathjax/2.7.5/MathJax.js?config=TeX-AMS-MML_SVG\"></script><script type=\"text/javascript\">if (window.MathJax && window.MathJax.Hub && window.MathJax.Hub.Config) {window.MathJax.Hub.Config({SVG: {font: \"STIX-Web\"}});}</script>                <script type=\"text/javascript\">window.PlotlyConfig = {MathJaxConfig: 'local'};</script>\n",
              "        <script charset=\"utf-8\" src=\"https://cdn.plot.ly/plotly-2.35.2.min.js\"></script>                <div id=\"7696b2c2-2bef-4877-b4a6-8a6a80d19b4b\" class=\"plotly-graph-div\" style=\"height:525px; width:100%;\"></div>            <script type=\"text/javascript\">                                    window.PLOTLYENV=window.PLOTLYENV || {};                                    if (document.getElementById(\"7696b2c2-2bef-4877-b4a6-8a6a80d19b4b\")) {                    Plotly.newPlot(                        \"7696b2c2-2bef-4877-b4a6-8a6a80d19b4b\",                        [{\"alignmentgroup\":\"True\",\"hovertemplate\":\"Category=%{x}\\u003cbr\\u003eValue=%{y}\\u003cextra\\u003e\\u003c\\u002fextra\\u003e\",\"legendgroup\":\"\",\"marker\":{\"color\":\"#636efa\",\"pattern\":{\"shape\":\"\"}},\"name\":\"\",\"offsetgroup\":\"\",\"orientation\":\"v\",\"showlegend\":false,\"textposition\":\"auto\",\"x\":[\"A\",\"B\",\"C\",\"D\",\"E\"],\"xaxis\":\"x\",\"y\":[10,20,30,40,50],\"yaxis\":\"y\",\"type\":\"bar\"}],                        {\"template\":{\"data\":{\"histogram2dcontour\":[{\"type\":\"histogram2dcontour\",\"colorbar\":{\"outlinewidth\":0,\"ticks\":\"\"},\"colorscale\":[[0.0,\"#0d0887\"],[0.1111111111111111,\"#46039f\"],[0.2222222222222222,\"#7201a8\"],[0.3333333333333333,\"#9c179e\"],[0.4444444444444444,\"#bd3786\"],[0.5555555555555556,\"#d8576b\"],[0.6666666666666666,\"#ed7953\"],[0.7777777777777778,\"#fb9f3a\"],[0.8888888888888888,\"#fdca26\"],[1.0,\"#f0f921\"]]}],\"choropleth\":[{\"type\":\"choropleth\",\"colorbar\":{\"outlinewidth\":0,\"ticks\":\"\"}}],\"histogram2d\":[{\"type\":\"histogram2d\",\"colorbar\":{\"outlinewidth\":0,\"ticks\":\"\"},\"colorscale\":[[0.0,\"#0d0887\"],[0.1111111111111111,\"#46039f\"],[0.2222222222222222,\"#7201a8\"],[0.3333333333333333,\"#9c179e\"],[0.4444444444444444,\"#bd3786\"],[0.5555555555555556,\"#d8576b\"],[0.6666666666666666,\"#ed7953\"],[0.7777777777777778,\"#fb9f3a\"],[0.8888888888888888,\"#fdca26\"],[1.0,\"#f0f921\"]]}],\"heatmap\":[{\"type\":\"heatmap\",\"colorbar\":{\"outlinewidth\":0,\"ticks\":\"\"},\"colorscale\":[[0.0,\"#0d0887\"],[0.1111111111111111,\"#46039f\"],[0.2222222222222222,\"#7201a8\"],[0.3333333333333333,\"#9c179e\"],[0.4444444444444444,\"#bd3786\"],[0.5555555555555556,\"#d8576b\"],[0.6666666666666666,\"#ed7953\"],[0.7777777777777778,\"#fb9f3a\"],[0.8888888888888888,\"#fdca26\"],[1.0,\"#f0f921\"]]}],\"heatmapgl\":[{\"type\":\"heatmapgl\",\"colorbar\":{\"outlinewidth\":0,\"ticks\":\"\"},\"colorscale\":[[0.0,\"#0d0887\"],[0.1111111111111111,\"#46039f\"],[0.2222222222222222,\"#7201a8\"],[0.3333333333333333,\"#9c179e\"],[0.4444444444444444,\"#bd3786\"],[0.5555555555555556,\"#d8576b\"],[0.6666666666666666,\"#ed7953\"],[0.7777777777777778,\"#fb9f3a\"],[0.8888888888888888,\"#fdca26\"],[1.0,\"#f0f921\"]]}],\"contourcarpet\":[{\"type\":\"contourcarpet\",\"colorbar\":{\"outlinewidth\":0,\"ticks\":\"\"}}],\"contour\":[{\"type\":\"contour\",\"colorbar\":{\"outlinewidth\":0,\"ticks\":\"\"},\"colorscale\":[[0.0,\"#0d0887\"],[0.1111111111111111,\"#46039f\"],[0.2222222222222222,\"#7201a8\"],[0.3333333333333333,\"#9c179e\"],[0.4444444444444444,\"#bd3786\"],[0.5555555555555556,\"#d8576b\"],[0.6666666666666666,\"#ed7953\"],[0.7777777777777778,\"#fb9f3a\"],[0.8888888888888888,\"#fdca26\"],[1.0,\"#f0f921\"]]}],\"surface\":[{\"type\":\"surface\",\"colorbar\":{\"outlinewidth\":0,\"ticks\":\"\"},\"colorscale\":[[0.0,\"#0d0887\"],[0.1111111111111111,\"#46039f\"],[0.2222222222222222,\"#7201a8\"],[0.3333333333333333,\"#9c179e\"],[0.4444444444444444,\"#bd3786\"],[0.5555555555555556,\"#d8576b\"],[0.6666666666666666,\"#ed7953\"],[0.7777777777777778,\"#fb9f3a\"],[0.8888888888888888,\"#fdca26\"],[1.0,\"#f0f921\"]]}],\"mesh3d\":[{\"type\":\"mesh3d\",\"colorbar\":{\"outlinewidth\":0,\"ticks\":\"\"}}],\"scatter\":[{\"fillpattern\":{\"fillmode\":\"overlay\",\"size\":10,\"solidity\":0.2},\"type\":\"scatter\"}],\"parcoords\":[{\"type\":\"parcoords\",\"line\":{\"colorbar\":{\"outlinewidth\":0,\"ticks\":\"\"}}}],\"scatterpolargl\":[{\"type\":\"scatterpolargl\",\"marker\":{\"colorbar\":{\"outlinewidth\":0,\"ticks\":\"\"}}}],\"bar\":[{\"error_x\":{\"color\":\"#2a3f5f\"},\"error_y\":{\"color\":\"#2a3f5f\"},\"marker\":{\"line\":{\"color\":\"#E5ECF6\",\"width\":0.5},\"pattern\":{\"fillmode\":\"overlay\",\"size\":10,\"solidity\":0.2}},\"type\":\"bar\"}],\"scattergeo\":[{\"type\":\"scattergeo\",\"marker\":{\"colorbar\":{\"outlinewidth\":0,\"ticks\":\"\"}}}],\"scatterpolar\":[{\"type\":\"scatterpolar\",\"marker\":{\"colorbar\":{\"outlinewidth\":0,\"ticks\":\"\"}}}],\"histogram\":[{\"marker\":{\"pattern\":{\"fillmode\":\"overlay\",\"size\":10,\"solidity\":0.2}},\"type\":\"histogram\"}],\"scattergl\":[{\"type\":\"scattergl\",\"marker\":{\"colorbar\":{\"outlinewidth\":0,\"ticks\":\"\"}}}],\"scatter3d\":[{\"type\":\"scatter3d\",\"line\":{\"colorbar\":{\"outlinewidth\":0,\"ticks\":\"\"}},\"marker\":{\"colorbar\":{\"outlinewidth\":0,\"ticks\":\"\"}}}],\"scattermapbox\":[{\"type\":\"scattermapbox\",\"marker\":{\"colorbar\":{\"outlinewidth\":0,\"ticks\":\"\"}}}],\"scatterternary\":[{\"type\":\"scatterternary\",\"marker\":{\"colorbar\":{\"outlinewidth\":0,\"ticks\":\"\"}}}],\"scattercarpet\":[{\"type\":\"scattercarpet\",\"marker\":{\"colorbar\":{\"outlinewidth\":0,\"ticks\":\"\"}}}],\"carpet\":[{\"aaxis\":{\"endlinecolor\":\"#2a3f5f\",\"gridcolor\":\"white\",\"linecolor\":\"white\",\"minorgridcolor\":\"white\",\"startlinecolor\":\"#2a3f5f\"},\"baxis\":{\"endlinecolor\":\"#2a3f5f\",\"gridcolor\":\"white\",\"linecolor\":\"white\",\"minorgridcolor\":\"white\",\"startlinecolor\":\"#2a3f5f\"},\"type\":\"carpet\"}],\"table\":[{\"cells\":{\"fill\":{\"color\":\"#EBF0F8\"},\"line\":{\"color\":\"white\"}},\"header\":{\"fill\":{\"color\":\"#C8D4E3\"},\"line\":{\"color\":\"white\"}},\"type\":\"table\"}],\"barpolar\":[{\"marker\":{\"line\":{\"color\":\"#E5ECF6\",\"width\":0.5},\"pattern\":{\"fillmode\":\"overlay\",\"size\":10,\"solidity\":0.2}},\"type\":\"barpolar\"}],\"pie\":[{\"automargin\":true,\"type\":\"pie\"}]},\"layout\":{\"autotypenumbers\":\"strict\",\"colorway\":[\"#636efa\",\"#EF553B\",\"#00cc96\",\"#ab63fa\",\"#FFA15A\",\"#19d3f3\",\"#FF6692\",\"#B6E880\",\"#FF97FF\",\"#FECB52\"],\"font\":{\"color\":\"#2a3f5f\"},\"hovermode\":\"closest\",\"hoverlabel\":{\"align\":\"left\"},\"paper_bgcolor\":\"white\",\"plot_bgcolor\":\"#E5ECF6\",\"polar\":{\"bgcolor\":\"#E5ECF6\",\"angularaxis\":{\"gridcolor\":\"white\",\"linecolor\":\"white\",\"ticks\":\"\"},\"radialaxis\":{\"gridcolor\":\"white\",\"linecolor\":\"white\",\"ticks\":\"\"}},\"ternary\":{\"bgcolor\":\"#E5ECF6\",\"aaxis\":{\"gridcolor\":\"white\",\"linecolor\":\"white\",\"ticks\":\"\"},\"baxis\":{\"gridcolor\":\"white\",\"linecolor\":\"white\",\"ticks\":\"\"},\"caxis\":{\"gridcolor\":\"white\",\"linecolor\":\"white\",\"ticks\":\"\"}},\"coloraxis\":{\"colorbar\":{\"outlinewidth\":0,\"ticks\":\"\"}},\"colorscale\":{\"sequential\":[[0.0,\"#0d0887\"],[0.1111111111111111,\"#46039f\"],[0.2222222222222222,\"#7201a8\"],[0.3333333333333333,\"#9c179e\"],[0.4444444444444444,\"#bd3786\"],[0.5555555555555556,\"#d8576b\"],[0.6666666666666666,\"#ed7953\"],[0.7777777777777778,\"#fb9f3a\"],[0.8888888888888888,\"#fdca26\"],[1.0,\"#f0f921\"]],\"sequentialminus\":[[0.0,\"#0d0887\"],[0.1111111111111111,\"#46039f\"],[0.2222222222222222,\"#7201a8\"],[0.3333333333333333,\"#9c179e\"],[0.4444444444444444,\"#bd3786\"],[0.5555555555555556,\"#d8576b\"],[0.6666666666666666,\"#ed7953\"],[0.7777777777777778,\"#fb9f3a\"],[0.8888888888888888,\"#fdca26\"],[1.0,\"#f0f921\"]],\"diverging\":[[0,\"#8e0152\"],[0.1,\"#c51b7d\"],[0.2,\"#de77ae\"],[0.3,\"#f1b6da\"],[0.4,\"#fde0ef\"],[0.5,\"#f7f7f7\"],[0.6,\"#e6f5d0\"],[0.7,\"#b8e186\"],[0.8,\"#7fbc41\"],[0.9,\"#4d9221\"],[1,\"#276419\"]]},\"xaxis\":{\"gridcolor\":\"white\",\"linecolor\":\"white\",\"ticks\":\"\",\"title\":{\"standoff\":15},\"zerolinecolor\":\"white\",\"automargin\":true,\"zerolinewidth\":2},\"yaxis\":{\"gridcolor\":\"white\",\"linecolor\":\"white\",\"ticks\":\"\",\"title\":{\"standoff\":15},\"zerolinecolor\":\"white\",\"automargin\":true,\"zerolinewidth\":2},\"scene\":{\"xaxis\":{\"backgroundcolor\":\"#E5ECF6\",\"gridcolor\":\"white\",\"linecolor\":\"white\",\"showbackground\":true,\"ticks\":\"\",\"zerolinecolor\":\"white\",\"gridwidth\":2},\"yaxis\":{\"backgroundcolor\":\"#E5ECF6\",\"gridcolor\":\"white\",\"linecolor\":\"white\",\"showbackground\":true,\"ticks\":\"\",\"zerolinecolor\":\"white\",\"gridwidth\":2},\"zaxis\":{\"backgroundcolor\":\"#E5ECF6\",\"gridcolor\":\"white\",\"linecolor\":\"white\",\"showbackground\":true,\"ticks\":\"\",\"zerolinecolor\":\"white\",\"gridwidth\":2}},\"shapedefaults\":{\"line\":{\"color\":\"#2a3f5f\"}},\"annotationdefaults\":{\"arrowcolor\":\"#2a3f5f\",\"arrowhead\":0,\"arrowwidth\":1},\"geo\":{\"bgcolor\":\"white\",\"landcolor\":\"#E5ECF6\",\"subunitcolor\":\"white\",\"showland\":true,\"showlakes\":true,\"lakecolor\":\"white\"},\"title\":{\"x\":0.05},\"mapbox\":{\"style\":\"light\"}}},\"xaxis\":{\"anchor\":\"y\",\"domain\":[0.0,1.0],\"title\":{\"text\":\"Category\"}},\"yaxis\":{\"anchor\":\"x\",\"domain\":[0.0,1.0],\"title\":{\"text\":\"Value\"}},\"legend\":{\"tracegroupgap\":0},\"title\":{\"text\":\"Simple Bar Plot\"},\"barmode\":\"relative\"},                        {\"responsive\": true}                    ).then(function(){\n",
              "                            \n",
              "var gd = document.getElementById('7696b2c2-2bef-4877-b4a6-8a6a80d19b4b');\n",
              "var x = new MutationObserver(function (mutations, observer) {{\n",
              "        var display = window.getComputedStyle(gd).display;\n",
              "        if (!display || display === 'none') {{\n",
              "            console.log([gd, 'removed!']);\n",
              "            Plotly.purge(gd);\n",
              "            observer.disconnect();\n",
              "        }}\n",
              "}});\n",
              "\n",
              "// Listen for the removal of the full notebook cells\n",
              "var notebookContainer = gd.closest('#notebook-container');\n",
              "if (notebookContainer) {{\n",
              "    x.observe(notebookContainer, {childList: true});\n",
              "}}\n",
              "\n",
              "// Listen for the clearing of the current output cell\n",
              "var outputEl = gd.closest('.output');\n",
              "if (outputEl) {{\n",
              "    x.observe(outputEl, {childList: true});\n",
              "}}\n",
              "\n",
              "                        })                };                            </script>        </div>\n",
              "</body>\n",
              "</html>"
            ]
          },
          "metadata": {}
        }
      ]
    },
    {
      "cell_type": "code",
      "source": [
        "##  Create a DataFrame and add a new column based on an existing column\n",
        "import pandas as pd\n",
        "\n",
        "# Step 1: Create a DataFrame\n",
        "data = {\n",
        "    'Name': ['Alice', 'Bob', 'Charlie', 'David'],\n",
        "    'Age': [25, 30, 35, 40]\n",
        "}\n",
        "\n",
        "df = pd.DataFrame(data)\n",
        "\n",
        "# Step 2: Add a new column based on an existing column ('Age')\n",
        "df['Age in 5 years'] = df['Age'] + 5\n",
        "\n",
        "# Display the DataFrame\n",
        "print(df)"
      ],
      "metadata": {
        "colab": {
          "base_uri": "https://localhost:8080/"
        },
        "id": "93-xHaK-zGIk",
        "outputId": "91334d5e-c472-4748-92b0-a1affad1c705"
      },
      "execution_count": 10,
      "outputs": [
        {
          "output_type": "stream",
          "name": "stdout",
          "text": [
            "      Name  Age  Age in 5 years\n",
            "0    Alice   25              30\n",
            "1      Bob   30              35\n",
            "2  Charlie   35              40\n",
            "3    David   40              45\n"
          ]
        }
      ]
    },
    {
      "cell_type": "code",
      "source": [
        "## Write a program to perform element-wise multiplication of two NumPy arrays\n",
        "import numpy as np\n",
        "\n",
        "# Create two NumPy arrays\n",
        "array1 = np.array([1, 2, 3, 4, 5])\n",
        "array2 = np.array([5, 4, 3, 2, 1])\n",
        "\n",
        "# Perform element-wise multiplication\n",
        "result = array1 * array2\n",
        "\n",
        "# Display the result\n",
        "print(\"Element-wise multiplication result:\", result)"
      ],
      "metadata": {
        "colab": {
          "base_uri": "https://localhost:8080/"
        },
        "id": "nlgl07JlzuqF",
        "outputId": "364a4459-eb60-4c47-e709-9a8c813eb50a"
      },
      "execution_count": 12,
      "outputs": [
        {
          "output_type": "stream",
          "name": "stdout",
          "text": [
            "Element-wise multiplication result: [5 8 9 8 5]\n"
          ]
        }
      ]
    },
    {
      "cell_type": "code",
      "source": [
        "## Create a line plot with multiple lines using Matplotlib\n",
        "import matplotlib.pyplot as plt\n",
        "\n",
        "# Data for multiple lines\n",
        "x = [1, 2, 3, 4, 5]\n",
        "y1 = [1, 4, 9, 16, 25]  # First line (y = x^2)\n",
        "y2 = [1, 2, 3, 4, 5]    # Second line (y = x)\n",
        "y3 = [1, 8, 27, 64, 125] # Third line (y = x^3)\n",
        "\n",
        "# Create the line plot\n",
        "plt.plot(x, y1, label='y = x^2', color='blue', marker='o')  # First line\n",
        "plt.plot(x, y2, label='y = x', color='green', marker='s')   # Second line\n",
        "plt.plot(x, y3, label='y = x^3', color='red', marker='^')   # Third line\n",
        "\n",
        "# Add title and labels\n",
        "plt.title(\"Multiple Line Plot\")\n",
        "plt.xlabel(\"X values\")\n",
        "plt.ylabel(\"Y values\")\n",
        "\n",
        "# Display legend\n",
        "plt.legend()\n",
        "\n",
        "# Show the plot\n",
        "plt.show()\n"
      ],
      "metadata": {
        "colab": {
          "base_uri": "https://localhost:8080/",
          "height": 472
        },
        "id": "fLIIEGnCz17v",
        "outputId": "d9bbc20a-2521-4d86-d1ec-cb48acefaa20"
      },
      "execution_count": 14,
      "outputs": [
        {
          "output_type": "display_data",
          "data": {
            "text/plain": [
              "<Figure size 640x480 with 1 Axes>"
            ],
            "image/png": "[encoded data removed]"
          },
          "metadata": {}
        }
      ]
    },
    {
      "cell_type": "code",
      "source": [
        "## Generate a Pandas DataFrame and filter rows where a column value is greater than a threshold\n",
        "import pandas as pd\n",
        "\n",
        "# Step 1: Create a sample DataFrame\n",
        "data = {\n",
        "    'Name': ['Alice', 'Bob', 'Charlie', 'David', 'Eve'],\n",
        "    'Age': [25, 30, 35, 40, 45],\n",
        "    'Salary': [50000, 60000, 70000, 80000, 90000]\n",
        "}\n",
        "\n",
        "df = pd.DataFrame(data)\n",
        "\n",
        "# Step 2: Define a threshold\n",
        "threshold = 60000\n",
        "\n",
        "# Step 3: Filter rows where 'Salary' is greater than the threshold\n",
        "filtered_df = df[df['Salary'] > threshold]\n",
        "\n",
        "# Display the filtered DataFrame\n",
        "print(filtered_df)"
      ],
      "metadata": {
        "colab": {
          "base_uri": "https://localhost:8080/"
        },
        "id": "FT5Bg_PO0SKH",
        "outputId": "f427efeb-052b-46c8-af28-2600c91de639"
      },
      "execution_count": 15,
      "outputs": [
        {
          "output_type": "stream",
          "name": "stdout",
          "text": [
            "      Name  Age  Salary\n",
            "2  Charlie   35   70000\n",
            "3    David   40   80000\n",
            "4      Eve   45   90000\n"
          ]
        }
      ]
    },
    {
      "cell_type": "code",
      "source": [
        "## Create a histogram using Seaborn to visualize a distribution\n",
        "import seaborn as sns\n",
        "import matplotlib.pyplot as plt\n",
        "\n",
        "# Example dataset: Creating a random dataset of 1000 points\n",
        "data = sns.load_dataset(\"iris\")  # Using the 'iris' dataset from Seaborn\n",
        "\n",
        "# Creating a histogram for the 'sepal_length' column\n",
        "sns.histplot(data['sepal_length'], kde=True, color='blue', bins=20)\n",
        "\n",
        "# Adding title and labels\n",
        "plt.title(\"Distribution of Sepal Length\")\n",
        "plt.xlabel(\"Sepal Length (cm)\")\n",
        "plt.ylabel(\"Frequency\")\n",
        "\n",
        "# Show the plot\n",
        "plt.show()"
      ],
      "metadata": {
        "colab": {
          "base_uri": "https://localhost:8080/",
          "height": 472
        },
        "id": "ojNMoQFO0uIV",
        "outputId": "6dc4a452-a7ca-42dc-caf8-d454ab95b177"
      },
      "execution_count": 16,
      "outputs": [
        {
          "output_type": "display_data",
          "data": {
            "text/plain": [
              "<Figure size 640x480 with 1 Axes>"
            ],
            "image/png": "[encoded data removed]"
          },
          "metadata": {}
        }
      ]
    },
    {
      "cell_type": "code",
      "source": [
        "## A Perform matrix multiplication using NumPy\n",
        "import numpy as np\n",
        "\n",
        "# Define two matrices (2x3 matrix and 3x2 matrix)\n",
        "A = np.array([[1, 2, 3],\n",
        "              [4, 5, 6]])\n",
        "\n",
        "B = np.array([[7, 8],\n",
        "              [9, 10],\n",
        "              [11, 12]])\n",
        "\n",
        "# Perform matrix multiplication using np.dot() or the @ operator\n",
        "result = np.dot(A, B)\n",
        "# Alternatively, you can use the @ operator: result = A @ B\n",
        "\n",
        "# Display the result\n",
        "print(\"Matrix A:\")\n",
        "print(A)\n",
        "\n",
        "print(\"\\nMatrix B:\")\n",
        "print(B)\n",
        "\n",
        "print(\"\\nResult of matrix multiplication (A * B):\")\n",
        "print(result)"
      ],
      "metadata": {
        "colab": {
          "base_uri": "https://localhost:8080/"
        },
        "id": "1YkZTYFD06St",
        "outputId": "e5756381-a001-41c0-8afa-0e76652b1dcc"
      },
      "execution_count": 17,
      "outputs": [
        {
          "output_type": "stream",
          "name": "stdout",
          "text": [
            "Matrix A:\n",
            "[[1 2 3]\n",
            " [4 5 6]]\n",
            "\n",
            "Matrix B:\n",
            "[[ 7  8]\n",
            " [ 9 10]\n",
            " [11 12]]\n",
            "\n",
            "Result of matrix multiplication (A * B):\n",
            "[[ 58  64]\n",
            " [139 154]]\n"
          ]
        }
      ]
    },
    {
      "cell_type": "code",
      "source": [
        "## A Use Pandas to load a CSV file and display its first 5 rows.\n",
        "import pandas as pd\n",
        "\n",
        "# Load a CSV file into a Pandas DataFrame\n",
        "df = pd.read_csv('path_to_your_file.csv')\n",
        "\n",
        "# Display the first 5 rows of the DataFrame\n",
        "print(df.head())"
      ],
      "metadata": {
        "colab": {
          "base_uri": "https://localhost:8080/",
          "height": 390
        },
        "id": "hnEQZMcj1DrX",
        "outputId": "5bd13076-d30e-4c8e-9fc2-56561709e602"
      },
      "execution_count": 18,
      "outputs": [
        {
          "output_type": "error",
          "ename": "FileNotFoundError",
          "evalue": "[Errno 2] No such file or directory: 'path_to_your_file.csv'",
          "traceback": [
            "\u001b[0;31m---------------------------------------------------------------------------\u001b[0m",
            "\u001b[0;31mFileNotFoundError\u001b[0m                         Traceback (most recent call last)",
            "\u001b[0;32m<ipython-input-18-adf0b9547aab>\u001b[0m in \u001b[0;36m<cell line: 0>\u001b[0;34m()\u001b[0m\n\u001b[1;32m      3\u001b[0m \u001b[0;34m\u001b[0m\u001b[0m\n\u001b[1;32m      4\u001b[0m \u001b[0;31m# Load a CSV file into a Pandas DataFrame\u001b[0m\u001b[0;34m\u001b[0m\u001b[0;34m\u001b[0m\u001b[0m\n\u001b[0;32m----> 5\u001b[0;31m \u001b[0mdf\u001b[0m \u001b[0;34m=\u001b[0m \u001b[0mpd\u001b[0m\u001b[0;34m.\u001b[0m\u001b[0mread_csv\u001b[0m\u001b[0;34m(\u001b[0m\u001b[0;34m'path_to_your_file.csv'\u001b[0m\u001b[0;34m)\u001b[0m\u001b[0;34m\u001b[0m\u001b[0;34m\u001b[0m\u001b[0m\n\u001b[0m\u001b[1;32m      6\u001b[0m \u001b[0;34m\u001b[0m\u001b[0m\n\u001b[1;32m      7\u001b[0m \u001b[0;31m# Display the first 5 rows of the DataFrame\u001b[0m\u001b[0;34m\u001b[0m\u001b[0;34m\u001b[0m\u001b[0m\n",
            "\u001b[0;32m/usr/local/lib/python3.11/dist-packages/pandas/io/parsers/readers.py\u001b[0m in \u001b[0;36mread_csv\u001b[0;34m(filepath_or_buffer, sep, delimiter, header, names, index_col, usecols, dtype, engine, converters, true_values, false_values, skipinitialspace, skiprows, skipfooter, nrows, na_values, keep_default_na, na_filter, verbose, skip_blank_lines, parse_dates, infer_datetime_format, keep_date_col, date_parser, date_format, dayfirst, cache_dates, iterator, chunksize, compression, thousands, decimal, lineterminator, quotechar, quoting, doublequote, escapechar, comment, encoding, encoding_errors, dialect, on_bad_lines, delim_whitespace, low_memory, memory_map, float_precision, storage_options, dtype_backend)\u001b[0m\n\u001b[1;32m   1024\u001b[0m     \u001b[0mkwds\u001b[0m\u001b[0;34m.\u001b[0m\u001b[0mupdate\u001b[0m\u001b[0;34m(\u001b[0m\u001b[0mkwds_defaults\u001b[0m\u001b[0;34m)\u001b[0m\u001b[0;34m\u001b[0m\u001b[0;34m\u001b[0m\u001b[0m\n\u001b[1;32m   1025\u001b[0m \u001b[0;34m\u001b[0m\u001b[0m\n\u001b[0;32m-> 1026\u001b[0;31m     \u001b[0;32mreturn\u001b[0m \u001b[0m_read\u001b[0m\u001b[0;34m(\u001b[0m\u001b[0mfilepath_or_buffer\u001b[0m\u001b[0;34m,\u001b[0m \u001b[0mkwds\u001b[0m\u001b[0;34m)\u001b[0m\u001b[0;34m\u001b[0m\u001b[0;34m\u001b[0m\u001b[0m\n\u001b[0m\u001b[1;32m   1027\u001b[0m \u001b[0;34m\u001b[0m\u001b[0m\n\u001b[1;32m   1028\u001b[0m \u001b[0;34m\u001b[0m\u001b[0m\n",
            "\u001b[0;32m/usr/local/lib/python3.11/dist-packages/pandas/io/parsers/readers.py\u001b[0m in \u001b[0;36m_read\u001b[0;34m(filepath_or_buffer, kwds)\u001b[0m\n\u001b[1;32m    618\u001b[0m \u001b[0;34m\u001b[0m\u001b[0m\n\u001b[1;32m    619\u001b[0m     \u001b[0;31m# Create the parser.\u001b[0m\u001b[0;34m\u001b[0m\u001b[0;34m\u001b[0m\u001b[0m\n\u001b[0;32m--> 620\u001b[0;31m     \u001b[0mparser\u001b[0m \u001b[0;34m=\u001b[0m \u001b[0mTextFileReader\u001b[0m\u001b[0;34m(\u001b[0m\u001b[0mfilepath_or_buffer\u001b[0m\u001b[0;34m,\u001b[0m \u001b[0;34m**\u001b[0m\u001b[0mkwds\u001b[0m\u001b[0;34m)\u001b[0m\u001b[0;34m\u001b[0m\u001b[0;34m\u001b[0m\u001b[0m\n\u001b[0m\u001b[1;32m    621\u001b[0m \u001b[0;34m\u001b[0m\u001b[0m\n\u001b[1;32m    622\u001b[0m     \u001b[0;32mif\u001b[0m \u001b[0mchunksize\u001b[0m \u001b[0;32mor\u001b[0m \u001b[0miterator\u001b[0m\u001b[0;34m:\u001b[0m\u001b[0;34m\u001b[0m\u001b[0;34m\u001b[0m\u001b[0m\n",
            "\u001b[0;32m/usr/local/lib/python3.11/dist-packages/pandas/io/parsers/readers.py\u001b[0m in \u001b[0;36m__init__\u001b[0;34m(self, f, engine, **kwds)\u001b[0m\n\u001b[1;32m   1618\u001b[0m \u001b[0;34m\u001b[0m\u001b[0m\n\u001b[1;32m   1619\u001b[0m         \u001b[0mself\u001b[0m\u001b[0;34m.\u001b[0m\u001b[0mhandles\u001b[0m\u001b[0;34m:\u001b[0m \u001b[0mIOHandles\u001b[0m \u001b[0;34m|\u001b[0m \u001b[0;32mNone\u001b[0m \u001b[0;34m=\u001b[0m \u001b[0;32mNone\u001b[0m\u001b[0;34m\u001b[0m\u001b[0;34m\u001b[0m\u001b[0m\n\u001b[0;32m-> 1620\u001b[0;31m         \u001b[0mself\u001b[0m\u001b[0;34m.\u001b[0m\u001b[0m_engine\u001b[0m \u001b[0;34m=\u001b[0m \u001b[0mself\u001b[0m\u001b[0;34m.\u001b[0m\u001b[0m_make_engine\u001b[0m\u001b[0;34m(\u001b[0m\u001b[0mf\u001b[0m\u001b[0;34m,\u001b[0m \u001b[0mself\u001b[0m\u001b[0;34m.\u001b[0m\u001b[0mengine\u001b[0m\u001b[0;34m)\u001b[0m\u001b[0;34m\u001b[0m\u001b[0;34m\u001b[0m\u001b[0m\n\u001b[0m\u001b[1;32m   1621\u001b[0m \u001b[0;34m\u001b[0m\u001b[0m\n\u001b[1;32m   1622\u001b[0m     \u001b[0;32mdef\u001b[0m \u001b[0mclose\u001b[0m\u001b[0;34m(\u001b[0m\u001b[0mself\u001b[0m\u001b[0;34m)\u001b[0m \u001b[0;34m->\u001b[0m \u001b[0;32mNone\u001b[0m\u001b[0;34m:\u001b[0m\u001b[0;34m\u001b[0m\u001b[0;34m\u001b[0m\u001b[0m\n",
            "\u001b[0;32m/usr/local/lib/python3.11/dist-packages/pandas/io/parsers/readers.py\u001b[0m in \u001b[0;36m_make_engine\u001b[0;34m(self, f, engine)\u001b[0m\n\u001b[1;32m   1878\u001b[0m                 \u001b[0;32mif\u001b[0m \u001b[0;34m\"b\"\u001b[0m \u001b[0;32mnot\u001b[0m \u001b[0;32min\u001b[0m \u001b[0mmode\u001b[0m\u001b[0;34m:\u001b[0m\u001b[0;34m\u001b[0m\u001b[0;34m\u001b[0m\u001b[0m\n\u001b[1;32m   1879\u001b[0m                     \u001b[0mmode\u001b[0m \u001b[0;34m+=\u001b[0m \u001b[0;34m\"b\"\u001b[0m\u001b[0;34m\u001b[0m\u001b[0;34m\u001b[0m\u001b[0m\n\u001b[0;32m-> 1880\u001b[0;31m             self.handles = get_handle(\n\u001b[0m\u001b[1;32m   1881\u001b[0m                 \u001b[0mf\u001b[0m\u001b[0;34m,\u001b[0m\u001b[0;34m\u001b[0m\u001b[0;34m\u001b[0m\u001b[0m\n\u001b[1;32m   1882\u001b[0m                 \u001b[0mmode\u001b[0m\u001b[0;34m,\u001b[0m\u001b[0;34m\u001b[0m\u001b[0;34m\u001b[0m\u001b[0m\n",
            "\u001b[0;32m/usr/local/lib/python3.11/dist-packages/pandas/io/common.py\u001b[0m in \u001b[0;36mget_handle\u001b[0;34m(path_or_buf, mode, encoding, compression, memory_map, is_text, errors, storage_options)\u001b[0m\n\u001b[1;32m    871\u001b[0m         \u001b[0;32mif\u001b[0m \u001b[0mioargs\u001b[0m\u001b[0;34m.\u001b[0m\u001b[0mencoding\u001b[0m \u001b[0;32mand\u001b[0m \u001b[0;34m\"b\"\u001b[0m \u001b[0;32mnot\u001b[0m \u001b[0;32min\u001b[0m \u001b[0mioargs\u001b[0m\u001b[0;34m.\u001b[0m\u001b[0mmode\u001b[0m\u001b[0;34m:\u001b[0m\u001b[0;34m\u001b[0m\u001b[0;34m\u001b[0m\u001b[0m\n\u001b[1;32m    872\u001b[0m             \u001b[0;31m# Encoding\u001b[0m\u001b[0;34m\u001b[0m\u001b[0;34m\u001b[0m\u001b[0m\n\u001b[0;32m--> 873\u001b[0;31m             handle = open(\n\u001b[0m\u001b[1;32m    874\u001b[0m                 \u001b[0mhandle\u001b[0m\u001b[0;34m,\u001b[0m\u001b[0;34m\u001b[0m\u001b[0;34m\u001b[0m\u001b[0m\n\u001b[1;32m    875\u001b[0m                 \u001b[0mioargs\u001b[0m\u001b[0;34m.\u001b[0m\u001b[0mmode\u001b[0m\u001b[0;34m,\u001b[0m\u001b[0;34m\u001b[0m\u001b[0;34m\u001b[0m\u001b[0m\n",
            "\u001b[0;31mFileNotFoundError\u001b[0m: [Errno 2] No such file or directory: 'path_to_your_file.csv'"
          ]
        }
      ]
    },
    {
      "cell_type": "code",
      "source": [
        "## Create a 3D scatter plot using Plotly\n",
        "import plotly.express as px\n",
        "import pandas as pd\n",
        "import numpy as np\n",
        "\n",
        "# Create sample data for 3D scatter plot\n",
        "np.random.seed(42)  # For reproducibility\n",
        "data = {\n",
        "    'x': np.random.rand(100),  # 100 random numbers for x-axis\n",
        "    'y': np.random.rand(100),  # 100 random numbers for y-axis\n",
        "    'z': np.random.rand(100),  # 100 random numbers for z-axis\n",
        "    'category': np.random.choice(['A', 'B', 'C'], 100)  # Random categories\n",
        "}\n",
        "\n",
        "df = pd.DataFrame(data)\n",
        "\n",
        "# Create the 3D scatter plot\n",
        "fig = px.scatter_3d(df, x='x', y='y', z='z', color='category',\n",
        "                    title=\"3D Scatter Plot\", labels={'x': 'X Axis', 'y': 'Y Axis', 'z': 'Z Axis'})\n",
        "\n",
        "# Show the plot\n",
        "fig.show()"
      ],
      "metadata": {
        "colab": {
          "base_uri": "https://localhost:8080/"
        },
        "id": "ZWUfImpQ1Soz",
        "outputId": "5c7792e2-1427-4c69-d044-ee265310d438"
      },
      "execution_count": 20,
      "outputs": [
        {
          "output_type": "display_data",
          "data": {
            "text/html": [
              "<html>\n",
              "<head><meta charset=\"utf-8\" /></head>\n",
              "<body>\n",
              "    <div>            <script src=\"https://cdnjs.cloudflare.com/ajax/libs/mathjax/2.7.5/MathJax.js?config=TeX-AMS-MML_SVG\"></script><script type=\"text/javascript\">if (window.MathJax && window.MathJax.Hub && window.MathJax.Hub.Config) {window.MathJax.Hub.Config({SVG: {font: \"STIX-Web\"}});}</script>                <script type=\"text/javascript\">window.PlotlyConfig = {MathJaxConfig: 'local'};</script>\n",
              "        <script charset=\"utf-8\" src=\"https://cdn.plot.ly/plotly-2.35.2.min.js\"></script>                <div id=\"ec053c2b-e89a-4137-82a5-7bff99d10ccc\" class=\"plotly-graph-div\" style=\"height:525px; width:100%;\"></div>            <script type=\"text/javascript\">                                    window.PLOTLYENV=window.PLOTLYENV || {};                                    if (document.getElementById(\"ec053c2b-e89a-4137-82a5-7bff99d10ccc\")) {                    Plotly.newPlot(                        \"ec053c2b-e89a-4137-82a5-7bff99d10ccc\",                        [{\"hovertemplate\":\"category=A\\u003cbr\\u003eX Axis=%{x}\\u003cbr\\u003eY Axis=%{y}\\u003cbr\\u003eZ Axis=%{z}\\u003cextra\\u003e\\u003c\\u002fextra\\u003e\",\"legendgroup\":\"A\",\"marker\":{\"color\":\"#636efa\",\"symbol\":\"circle\"},\"mode\":\"markers\",\"name\":\"A\",\"scene\":\"scene\",\"showlegend\":true,\"x\":[0.3745401188473625,0.15599452033620265,0.020584494295802447,0.3042422429595377,0.43194501864211576,0.29214464853521815,0.3663618432936917,0.45606998421703593,0.5142344384136116,0.06505159298527952,0.9488855372533332,0.9656320330745594,0.8083973481164611,0.3046137691733707,0.4401524937396013,0.4951769101112702,0.31171107608941095,0.5467102793432796,0.18485445552552704,0.7751328233611146,0.8948273504276488,0.1959828624191452,0.388677289689482,0.8287375091519293,0.5426960831582485,0.7722447692966574,0.07404465173409036,0.3584657285442726,0.11586905952512971,0.3308980248526492,0.7296061783380641,0.6375574713552131,0.8872127425763265,0.713244787222995,0.5612771975694962,0.770967179954561,0.42754101835854963,0.02541912674409519],\"y\":[0.03142918568673425,0.24929222914887494,0.289751452913768,0.8036720768991145,0.8925589984899778,0.3180034749718639,0.11005192452767676,0.22793516254194168,0.8607305832563434,0.1198653673336828,0.33761517140362796,0.9429097039125192,0.32320293202075523,0.5187906217433661,0.9717820827209607,0.25178229582536416,0.6095643339798968,0.05147875124998935,0.27864646423661144,0.23956189066697242,0.489452760277563,0.7616196153287176,0.3677831327192532,0.6335297107608947,0.835302495589238,0.6775643618422824,0.3867353463005374,0.9367299887367345,0.13752094414599325,0.9246936182785628,0.8172222002012158,0.5552008115994623,0.5296505783560065,0.8972157579533268,0.6331014572732679,0.3390297910487007,0.8971102599525771,0.8870864242651173],\"z\":[0.6420316461542878,0.009197051616629648,0.5487337893665861,0.3253996981592677,0.6496328990472147,0.09367476782809248,0.3677158030594335,0.26520236768172545,0.3930977246667604,0.5769038846263591,0.4925176938188639,0.1952429877980445,0.7224521152615053,0.2807723624408558,0.17711067940704894,0.9539285770025874,0.42818414831731433,0.9636199770892528,0.8530094554673601,0.38509772860192526,0.31692200515627766,0.696029796674973,0.6150072266991697,0.14008401523652403,0.7407686177542044,0.8093611554785136,0.6499639307777652,0.7019668772577033,0.795792669436101,0.375582952639944,0.46559801813246016,0.5426446347075766,0.2865412521282844,0.03734818874921442,0.3601906414112629,0.12706051265188478,0.21582102749684318,0.6228904758190003],\"type\":\"scatter3d\"},{\"hovertemplate\":\"category=B\\u003cbr\\u003eX Axis=%{x}\\u003cbr\\u003eY Axis=%{y}\\u003cbr\\u003eZ Axis=%{z}\\u003cextra\\u003e\\u003c\\u002fextra\\u003e\",\"legendgroup\":\"B\",\"marker\":{\"color\":\"#EF553B\",\"symbol\":\"circle\"},\"mode\":\"markers\",\"name\":\"B\",\"scene\":\"scene\",\"showlegend\":true,\"x\":[0.9507143064099162,0.05808361216819946,0.8661761457749352,0.6011150117432088,0.21233911067827616,0.18340450985343382,0.5247564316322378,0.2912291401980419,0.7851759613930136,0.19967378215835974,0.046450412719997725,0.6075448519014384,0.17052412368729153,0.12203823484477883,0.2587799816000169,0.5200680211778108,0.9695846277645586,0.5978999788110851,0.9218742350231168,0.0884925020519195,0.045227288910538066,0.32533033076326434,0.3567533266935893,0.28093450968738076,0.8021969807540397,0.07455064367977082,0.9868869366005173,0.1987156815341724,0.8154614284548342,0.7068573438476171,0.7712703466859457,0.6232981268275579,0.3109823217156622,0.49379559636439074],\"y\":[0.6364104112637804,0.41038292303562973,0.7555511385430487,0.22879816549162246,0.808120379564417,0.8714605901877177,0.18657005888603584,0.5393422419156507,0.4271077886262563,0.8180147659224931,0.5107473025775657,0.417411003148779,0.22210781047073025,0.9624472949421112,0.2848404943774676,0.5026790232288615,0.9082658859666537,0.9856504541106007,0.2420552715115004,0.6721355474058786,0.23763754399239967,0.7282163486118596,0.5357746840747585,0.0902897700544083,0.18651851039985423,0.040775141554763916,0.5908929431882418,0.016587828927856152,0.22649577519793795,0.6451727904094499,0.690937738102466,0.11347352124058907,0.2579416277151556,0.3492095746126609],\"z\":[0.08413996499504883,0.1014715428660321,0.6635017691080558,0.005061583846218687,0.22426930946055978,0.23724908749680007,0.7464914051180241,0.8492234104941779,0.24398964337908358,0.9730105547524456,0.6311386259972629,0.7948113035416484,0.5026370931051921,0.9404585843529143,0.015456616528867428,0.9666548190436696,0.2944488920695857,0.1694927466860925,0.5568012624583502,0.936154774160781,0.570061170089365,0.09717649377076854,0.5183296523637367,0.8773730719279554,0.7024840839871093,0.35949115121975517,0.29359184426449336,0.8101133946791808,0.9132405525564713,0.5113423988609378,0.7982951789667752,0.3379951568515358,0.578280140996174,0.5222432600548044],\"type\":\"scatter3d\"},{\"hovertemplate\":\"category=C\\u003cbr\\u003eX Axis=%{x}\\u003cbr\\u003eY Axis=%{y}\\u003cbr\\u003eZ Axis=%{z}\\u003cextra\\u003e\\u003c\\u002fextra\\u003e\",\"legendgroup\":\"C\",\"marker\":{\"color\":\"#00cc96\",\"symbol\":\"circle\"},\"mode\":\"markers\",\"name\":\"C\",\"scene\":\"scene\",\"showlegend\":true,\"x\":[0.7319939418114051,0.5986584841970366,0.15601864044243652,0.7080725777960455,0.9699098521619943,0.8324426408004217,0.18182496720710062,0.6118528947223795,0.13949386065204183,0.5924145688620425,0.09767211400638387,0.6842330265121569,0.034388521115218396,0.9093204020787821,0.662522284353982,0.9394989415641891,0.2713490317738959,0.14092422497476265,0.005522117123602399,0.7290071680409873,0.8631034258755935,0.06355835028602363,0.32518332202674705,0.4722149251619493,0.1195942459383017,0.7607850486168974,0.5227328293819941,0.10789142699330445],\"y\":[0.3143559810763267,0.5085706911647028,0.907566473926093,0.07697990982879299,0.16122128725400442,0.9296976523425731,0.6334037565104235,0.8074401551640625,0.8960912999234932,0.006952130531190703,0.7030189588951778,0.363629602379294,0.49724850589238545,0.30087830981676966,0.036886947354532795,0.1448948720912231,0.6323058305935795,0.32078006497173583,0.512093058299281,0.17436642900499144,0.3410663510502585,0.877339353380981,0.659984046034179,0.24185229090045168,0.09310276780589921,0.9004180571633305,0.7259556788702394,0.7798755458576239],\"z\":[0.16162871409461377,0.8985541885270792,0.6064290596595899,0.16080805141749865,0.6918951976926933,0.6519612595026005,0.7121792213475359,0.6576128923003434,0.5683086033354716,0.8920465551771133,0.02431596643145384,0.6454722959071678,0.9148643902204485,0.3701587002554444,0.9283185625877254,0.8511366715168569,0.9900538501042633,0.697015740995268,0.8670723185801037,0.5015162946871996,0.8900053418175663,0.093981939840869,0.035942273796742086,0.5908332605690108,0.03050024993904943,0.8226005606596583,0.7699935530986108,0.085347464993768],\"type\":\"scatter3d\"}],                        {\"template\":{\"data\":{\"histogram2dcontour\":[{\"type\":\"histogram2dcontour\",\"colorbar\":{\"outlinewidth\":0,\"ticks\":\"\"},\"colorscale\":[[0.0,\"#0d0887\"],[0.1111111111111111,\"#46039f\"],[0.2222222222222222,\"#7201a8\"],[0.3333333333333333,\"#9c179e\"],[0.4444444444444444,\"#bd3786\"],[0.5555555555555556,\"#d8576b\"],[0.6666666666666666,\"#ed7953\"],[0.7777777777777778,\"#fb9f3a\"],[0.8888888888888888,\"#fdca26\"],[1.0,\"#f0f921\"]]}],\"choropleth\":[{\"type\":\"choropleth\",\"colorbar\":{\"outlinewidth\":0,\"ticks\":\"\"}}],\"histogram2d\":[{\"type\":\"histogram2d\",\"colorbar\":{\"outlinewidth\":0,\"ticks\":\"\"},\"colorscale\":[[0.0,\"#0d0887\"],[0.1111111111111111,\"#46039f\"],[0.2222222222222222,\"#7201a8\"],[0.3333333333333333,\"#9c179e\"],[0.4444444444444444,\"#bd3786\"],[0.5555555555555556,\"#d8576b\"],[0.6666666666666666,\"#ed7953\"],[0.7777777777777778,\"#fb9f3a\"],[0.8888888888888888,\"#fdca26\"],[1.0,\"#f0f921\"]]}],\"heatmap\":[{\"type\":\"heatmap\",\"colorbar\":{\"outlinewidth\":0,\"ticks\":\"\"},\"colorscale\":[[0.0,\"#0d0887\"],[0.1111111111111111,\"#46039f\"],[0.2222222222222222,\"#7201a8\"],[0.3333333333333333,\"#9c179e\"],[0.4444444444444444,\"#bd3786\"],[0.5555555555555556,\"#d8576b\"],[0.6666666666666666,\"#ed7953\"],[0.7777777777777778,\"#fb9f3a\"],[0.8888888888888888,\"#fdca26\"],[1.0,\"#f0f921\"]]}],\"heatmapgl\":[{\"type\":\"heatmapgl\",\"colorbar\":{\"outlinewidth\":0,\"ticks\":\"\"},\"colorscale\":[[0.0,\"#0d0887\"],[0.1111111111111111,\"#46039f\"],[0.2222222222222222,\"#7201a8\"],[0.3333333333333333,\"#9c179e\"],[0.4444444444444444,\"#bd3786\"],[0.5555555555555556,\"#d8576b\"],[0.6666666666666666,\"#ed7953\"],[0.7777777777777778,\"#fb9f3a\"],[0.8888888888888888,\"#fdca26\"],[1.0,\"#f0f921\"]]}],\"contourcarpet\":[{\"type\":\"contourcarpet\",\"colorbar\":{\"outlinewidth\":0,\"ticks\":\"\"}}],\"contour\":[{\"type\":\"contour\",\"colorbar\":{\"outlinewidth\":0,\"ticks\":\"\"},\"colorscale\":[[0.0,\"#0d0887\"],[0.1111111111111111,\"#46039f\"],[0.2222222222222222,\"#7201a8\"],[0.3333333333333333,\"#9c179e\"],[0.4444444444444444,\"#bd3786\"],[0.5555555555555556,\"#d8576b\"],[0.6666666666666666,\"#ed7953\"],[0.7777777777777778,\"#fb9f3a\"],[0.8888888888888888,\"#fdca26\"],[1.0,\"#f0f921\"]]}],\"surface\":[{\"type\":\"surface\",\"colorbar\":{\"outlinewidth\":0,\"ticks\":\"\"},\"colorscale\":[[0.0,\"#0d0887\"],[0.1111111111111111,\"#46039f\"],[0.2222222222222222,\"#7201a8\"],[0.3333333333333333,\"#9c179e\"],[0.4444444444444444,\"#bd3786\"],[0.5555555555555556,\"#d8576b\"],[0.6666666666666666,\"#ed7953\"],[0.7777777777777778,\"#fb9f3a\"],[0.8888888888888888,\"#fdca26\"],[1.0,\"#f0f921\"]]}],\"mesh3d\":[{\"type\":\"mesh3d\",\"colorbar\":{\"outlinewidth\":0,\"ticks\":\"\"}}],\"scatter\":[{\"fillpattern\":{\"fillmode\":\"overlay\",\"size\":10,\"solidity\":0.2},\"type\":\"scatter\"}],\"parcoords\":[{\"type\":\"parcoords\",\"line\":{\"colorbar\":{\"outlinewidth\":0,\"ticks\":\"\"}}}],\"scatterpolargl\":[{\"type\":\"scatterpolargl\",\"marker\":{\"colorbar\":{\"outlinewidth\":0,\"ticks\":\"\"}}}],\"bar\":[{\"error_x\":{\"color\":\"#2a3f5f\"},\"error_y\":{\"color\":\"#2a3f5f\"},\"marker\":{\"line\":{\"color\":\"#E5ECF6\",\"width\":0.5},\"pattern\":{\"fillmode\":\"overlay\",\"size\":10,\"solidity\":0.2}},\"type\":\"bar\"}],\"scattergeo\":[{\"type\":\"scattergeo\",\"marker\":{\"colorbar\":{\"outlinewidth\":0,\"ticks\":\"\"}}}],\"scatterpolar\":[{\"type\":\"scatterpolar\",\"marker\":{\"colorbar\":{\"outlinewidth\":0,\"ticks\":\"\"}}}],\"histogram\":[{\"marker\":{\"pattern\":{\"fillmode\":\"overlay\",\"size\":10,\"solidity\":0.2}},\"type\":\"histogram\"}],\"scattergl\":[{\"type\":\"scattergl\",\"marker\":{\"colorbar\":{\"outlinewidth\":0,\"ticks\":\"\"}}}],\"scatter3d\":[{\"type\":\"scatter3d\",\"line\":{\"colorbar\":{\"outlinewidth\":0,\"ticks\":\"\"}},\"marker\":{\"colorbar\":{\"outlinewidth\":0,\"ticks\":\"\"}}}],\"scattermapbox\":[{\"type\":\"scattermapbox\",\"marker\":{\"colorbar\":{\"outlinewidth\":0,\"ticks\":\"\"}}}],\"scatterternary\":[{\"type\":\"scatterternary\",\"marker\":{\"colorbar\":{\"outlinewidth\":0,\"ticks\":\"\"}}}],\"scattercarpet\":[{\"type\":\"scattercarpet\",\"marker\":{\"colorbar\":{\"outlinewidth\":0,\"ticks\":\"\"}}}],\"carpet\":[{\"aaxis\":{\"endlinecolor\":\"#2a3f5f\",\"gridcolor\":\"white\",\"linecolor\":\"white\",\"minorgridcolor\":\"white\",\"startlinecolor\":\"#2a3f5f\"},\"baxis\":{\"endlinecolor\":\"#2a3f5f\",\"gridcolor\":\"white\",\"linecolor\":\"white\",\"minorgridcolor\":\"white\",\"startlinecolor\":\"#2a3f5f\"},\"type\":\"carpet\"}],\"table\":[{\"cells\":{\"fill\":{\"color\":\"#EBF0F8\"},\"line\":{\"color\":\"white\"}},\"header\":{\"fill\":{\"color\":\"#C8D4E3\"},\"line\":{\"color\":\"white\"}},\"type\":\"table\"}],\"barpolar\":[{\"marker\":{\"line\":{\"color\":\"#E5ECF6\",\"width\":0.5},\"pattern\":{\"fillmode\":\"overlay\",\"size\":10,\"solidity\":0.2}},\"type\":\"barpolar\"}],\"pie\":[{\"automargin\":true,\"type\":\"pie\"}]},\"layout\":{\"autotypenumbers\":\"strict\",\"colorway\":[\"#636efa\",\"#EF553B\",\"#00cc96\",\"#ab63fa\",\"#FFA15A\",\"#19d3f3\",\"#FF6692\",\"#B6E880\",\"#FF97FF\",\"#FECB52\"],\"font\":{\"color\":\"#2a3f5f\"},\"hovermode\":\"closest\",\"hoverlabel\":{\"align\":\"left\"},\"paper_bgcolor\":\"white\",\"plot_bgcolor\":\"#E5ECF6\",\"polar\":{\"bgcolor\":\"#E5ECF6\",\"angularaxis\":{\"gridcolor\":\"white\",\"linecolor\":\"white\",\"ticks\":\"\"},\"radialaxis\":{\"gridcolor\":\"white\",\"linecolor\":\"white\",\"ticks\":\"\"}},\"ternary\":{\"bgcolor\":\"#E5ECF6\",\"aaxis\":{\"gridcolor\":\"white\",\"linecolor\":\"white\",\"ticks\":\"\"},\"baxis\":{\"gridcolor\":\"white\",\"linecolor\":\"white\",\"ticks\":\"\"},\"caxis\":{\"gridcolor\":\"white\",\"linecolor\":\"white\",\"ticks\":\"\"}},\"coloraxis\":{\"colorbar\":{\"outlinewidth\":0,\"ticks\":\"\"}},\"colorscale\":{\"sequential\":[[0.0,\"#0d0887\"],[0.1111111111111111,\"#46039f\"],[0.2222222222222222,\"#7201a8\"],[0.3333333333333333,\"#9c179e\"],[0.4444444444444444,\"#bd3786\"],[0.5555555555555556,\"#d8576b\"],[0.6666666666666666,\"#ed7953\"],[0.7777777777777778,\"#fb9f3a\"],[0.8888888888888888,\"#fdca26\"],[1.0,\"#f0f921\"]],\"sequentialminus\":[[0.0,\"#0d0887\"],[0.1111111111111111,\"#46039f\"],[0.2222222222222222,\"#7201a8\"],[0.3333333333333333,\"#9c179e\"],[0.4444444444444444,\"#bd3786\"],[0.5555555555555556,\"#d8576b\"],[0.6666666666666666,\"#ed7953\"],[0.7777777777777778,\"#fb9f3a\"],[0.8888888888888888,\"#fdca26\"],[1.0,\"#f0f921\"]],\"diverging\":[[0,\"#8e0152\"],[0.1,\"#c51b7d\"],[0.2,\"#de77ae\"],[0.3,\"#f1b6da\"],[0.4,\"#fde0ef\"],[0.5,\"#f7f7f7\"],[0.6,\"#e6f5d0\"],[0.7,\"#b8e186\"],[0.8,\"#7fbc41\"],[0.9,\"#4d9221\"],[1,\"#276419\"]]},\"xaxis\":{\"gridcolor\":\"white\",\"linecolor\":\"white\",\"ticks\":\"\",\"title\":{\"standoff\":15},\"zerolinecolor\":\"white\",\"automargin\":true,\"zerolinewidth\":2},\"yaxis\":{\"gridcolor\":\"white\",\"linecolor\":\"white\",\"ticks\":\"\",\"title\":{\"standoff\":15},\"zerolinecolor\":\"white\",\"automargin\":true,\"zerolinewidth\":2},\"scene\":{\"xaxis\":{\"backgroundcolor\":\"#E5ECF6\",\"gridcolor\":\"white\",\"linecolor\":\"white\",\"showbackground\":true,\"ticks\":\"\",\"zerolinecolor\":\"white\",\"gridwidth\":2},\"yaxis\":{\"backgroundcolor\":\"#E5ECF6\",\"gridcolor\":\"white\",\"linecolor\":\"white\",\"showbackground\":true,\"ticks\":\"\",\"zerolinecolor\":\"white\",\"gridwidth\":2},\"zaxis\":{\"backgroundcolor\":\"#E5ECF6\",\"gridcolor\":\"white\",\"linecolor\":\"white\",\"showbackground\":true,\"ticks\":\"\",\"zerolinecolor\":\"white\",\"gridwidth\":2}},\"shapedefaults\":{\"line\":{\"color\":\"#2a3f5f\"}},\"annotationdefaults\":{\"arrowcolor\":\"#2a3f5f\",\"arrowhead\":0,\"arrowwidth\":1},\"geo\":{\"bgcolor\":\"white\",\"landcolor\":\"#E5ECF6\",\"subunitcolor\":\"white\",\"showland\":true,\"showlakes\":true,\"lakecolor\":\"white\"},\"title\":{\"x\":0.05},\"mapbox\":{\"style\":\"light\"}}},\"scene\":{\"domain\":{\"x\":[0.0,1.0],\"y\":[0.0,1.0]},\"xaxis\":{\"title\":{\"text\":\"X Axis\"}},\"yaxis\":{\"title\":{\"text\":\"Y Axis\"}},\"zaxis\":{\"title\":{\"text\":\"Z Axis\"}}},\"legend\":{\"title\":{\"text\":\"category\"},\"tracegroupgap\":0},\"title\":{\"text\":\"3D Scatter Plot\"}},                        {\"responsive\": true}                    ).then(function(){\n",
              "                            \n",
              "var gd = document.getElementById('ec053c2b-e89a-4137-82a5-7bff99d10ccc');\n",
              "var x = new MutationObserver(function (mutations, observer) {{\n",
              "        var display = window.getComputedStyle(gd).display;\n",
              "        if (!display || display === 'none') {{\n",
              "            console.log([gd, 'removed!']);\n",
              "            Plotly.purge(gd);\n",
              "            observer.disconnect();\n",
              "        }}\n",
              "}});\n",
              "\n",
              "// Listen for the removal of the full notebook cells\n",
              "var notebookContainer = gd.closest('#notebook-container');\n",
              "if (notebookContainer) {{\n",
              "    x.observe(notebookContainer, {childList: true});\n",
              "}}\n",
              "\n",
              "// Listen for the clearing of the current output cell\n",
              "var outputEl = gd.closest('.output');\n",
              "if (outputEl) {{\n",
              "    x.observe(outputEl, {childList: true});\n",
              "}}\n",
              "\n",
              "                        })                };                            </script>        </div>\n",
              "</body>\n",
              "</html>"
            ]
          },
          "metadata": {}
        }
      ]
    }
  ]
}